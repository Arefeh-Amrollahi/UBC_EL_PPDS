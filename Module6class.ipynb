{
 "cells": [
  {
   "cell_type": "markdown",
   "metadata": {
    "slideshow": {
     "slide_type": "slide"
    }
   },
   "source": [
    "# Functions, Rise & Assert Statements\n",
    "\n",
    "## UBC MDS Extended Learning\n",
    "\n",
    "### November 21"
   ]
  },
  {
   "cell_type": "markdown",
   "metadata": {
    "slideshow": {
     "slide_type": "slide"
    }
   },
   "source": [
    "## Python Functions"
   ]
  },
  {
   "cell_type": "markdown",
   "metadata": {
    "slideshow": {
     "slide_type": "slide"
    }
   },
   "source": [
    "**Function's Anatomy**\n",
    "\n",
    "```\n",
    "def <function_name>([<parameters>]):\n",
    "    '''\n",
    "    Docstrings\n",
    "    '''\n",
    "    <statement(s)>\n",
    "    <return>\n",
    "```"
   ]
  },
  {
   "cell_type": "markdown",
   "metadata": {
    "slideshow": {
     "slide_type": "slide"
    }
   },
   "source": [
    "| Component | Meaning|\n",
    "|----| ----|\n",
    "|def | Keyword that informs Python a function is being defined|\n",
    "|<function_name> | A valid Python identifier that names the function |\n",
    "|<parameter(s)> | An optional, comma-separated list of arguments that can be passed to the function |\n",
    "|:| Punctuation that denotes the end of the function header |\n",
    "|'''Docstrings'''| Documentation regarding the function |\n",
    "| <statement(s)> | A block of valid Python statements |\n",
    "| return | What the output is expected to be |"
   ]
  },
  {
   "cell_type": "markdown",
   "metadata": {},
   "source": [
    "## Are our functions always right?"
   ]
  },
  {
   "cell_type": "code",
   "execution_count": 1,
   "metadata": {},
   "outputs": [],
   "source": [
    "def my_sum(x, y):\n",
    "    z = x**y\n",
    "    return z"
   ]
  },
  {
   "cell_type": "code",
   "execution_count": 3,
   "metadata": {},
   "outputs": [],
   "source": [
    "x = 4"
   ]
  },
  {
   "cell_type": "code",
   "execution_count": 4,
   "metadata": {},
   "outputs": [
    {
     "data": {
      "text/plain": [
       "9"
      ]
     },
     "execution_count": 4,
     "metadata": {},
     "output_type": "execute_result"
    }
   ],
   "source": [
    "my_sum(3, 2)"
   ]
  },
  {
   "cell_type": "code",
   "execution_count": 5,
   "metadata": {},
   "outputs": [
    {
     "data": {
      "text/plain": [
       "4"
      ]
     },
     "execution_count": 5,
     "metadata": {},
     "output_type": "execute_result"
    }
   ],
   "source": [
    "x"
   ]
  },
  {
   "cell_type": "markdown",
   "metadata": {
    "slideshow": {
     "slide_type": "slide"
    }
   },
   "source": [
    "### Example: \n",
    "\n",
    "Suppose you were building an online store with Python. You're working to add a discount coupon functionality to the system and eventually write the following apply_discount function:"
   ]
  },
  {
   "cell_type": "code",
   "execution_count": null,
   "metadata": {
    "slideshow": {
     "slide_type": "slide"
    }
   },
   "outputs": [],
   "source": [
    "shoes = {'price':125}\n",
    "tshirt = {'price': 30}\n",
    "\n",
    "def apply_discount(product, discount):\n",
    "    discount = discount/100\n",
    "    price = product['price'] * (1.0 - discount)\n",
    "    return price"
   ]
  },
  {
   "cell_type": "code",
   "execution_count": null,
   "metadata": {},
   "outputs": [],
   "source": [
    "apply_discount(shoes, 125)"
   ]
  },
  {
   "cell_type": "markdown",
   "metadata": {
    "slideshow": {
     "slide_type": "fragment"
    }
   },
   "source": [
    "What are possible errors?"
   ]
  },
  {
   "cell_type": "code",
   "execution_count": null,
   "metadata": {
    "slideshow": {
     "slide_type": "slide"
    }
   },
   "outputs": [],
   "source": [
    "shoes = {'name': 'Fancy Shoes', \n",
    "         'price': 100}"
   ]
  },
  {
   "cell_type": "code",
   "execution_count": null,
   "metadata": {
    "slideshow": {
     "slide_type": "fragment"
    }
   },
   "outputs": [],
   "source": [
    "#\n",
    "# 25% off -> $111.75\n",
    "#\n",
    "apply_discount(shoes, 25)"
   ]
  },
  {
   "cell_type": "markdown",
   "metadata": {
    "slideshow": {
     "slide_type": "slide"
    }
   },
   "source": [
    "But... what if... I make an error, maybe I put an additional `1` at the beginning of the discount, or maybe I apply a negative discount."
   ]
  },
  {
   "cell_type": "code",
   "execution_count": null,
   "metadata": {
    "scrolled": true,
    "slideshow": {
     "slide_type": "fragment"
    }
   },
   "outputs": [],
   "source": [
    "apply_discount(shoes, discount = -25)"
   ]
  },
  {
   "cell_type": "markdown",
   "metadata": {
    "slideshow": {
     "slide_type": "slide"
    }
   },
   "source": [
    "## Assert Statements"
   ]
  },
  {
   "cell_type": "markdown",
   "metadata": {
    "slideshow": {
     "slide_type": "subslide"
    }
   },
   "source": [
    "Python's **assert** statements are a debugging aid that test a condition.\n",
    "\n",
    "* If the condition is `true`, it does nothing and your program continues to execute.\n",
    "* If the assert condition evaluates to `false`, it raises an `AssertionError` exception with an optional error message.\n",
    "* Assertions are internal self-checks for your program. They work by declaring some conditions as impossible in your code. If one of these conditions doesn't hold that means there's a bug in the program.\n",
    "* If your program is bug-free, these conditions will never occur.\n",
    "* If the condictions occur, the program will crash with an assertion error telling you exactly which “impossible” condition was triggered. This makes it easier to track down and fix bugs in your programs."
   ]
  },
  {
   "cell_type": "markdown",
   "metadata": {
    "slideshow": {
     "slide_type": "slide"
    }
   },
   "source": [
    "#### Python’s assert statement is a debugging aid. An assertion error should never be raised unless there’s a bug in your program."
   ]
  },
  {
   "cell_type": "markdown",
   "metadata": {
    "slideshow": {
     "slide_type": "slide"
    }
   },
   "source": [
    "**Solution:** Use an assert statement that guarantees that, no matter what, discounted prices cannot be lower than $0 and they cannot be higher than the original price of the product.  \n",
    "\n",
    "\n",
    "Let’s make sure this actually works as intended if we call this function to apply a valid discount:"
   ]
  },
  {
   "cell_type": "code",
   "execution_count": null,
   "metadata": {},
   "outputs": [],
   "source": [
    "def apply_discount(product, discount):\n",
    "    '''\n",
    "    This is where you write your documentation\n",
    "    Inputs:\n",
    "    -------\n",
    "    product: *dict* name of the product\n",
    "    discount: int percentage 0 to 100 that you want to discount\n",
    "    \n",
    "    Returns:\n",
    "    -------\n",
    "    price int, new price after discount\n",
    "    \n",
    "    Example:\n",
    "    apply_discount(shoes, 25)\n",
    "    '''\n",
    "    discount = discount/100\n",
    "    discounted_price = int(product['price'] * (1.0 - discount))\n",
    "    print(discounted_price)\n",
    "    assert 0 <= discounted_price, \"Am I now giving the customer extra money????\"\n",
    "    assert discounted_price <= product['price'], \"Am I charging the customer extra money????\"\n",
    "\n",
    "    \n",
    "    return discounted_price"
   ]
  },
  {
   "cell_type": "code",
   "execution_count": null,
   "metadata": {
    "scrolled": true
   },
   "outputs": [],
   "source": [
    "apply_discount(shoes, discount = 25)"
   ]
  },
  {
   "cell_type": "code",
   "execution_count": null,
   "metadata": {},
   "outputs": [],
   "source": [
    "apply_discount(shoes, discount = 'twenty five')"
   ]
  },
  {
   "cell_type": "code",
   "execution_count": null,
   "metadata": {},
   "outputs": [],
   "source": [
    "def apply_discount(product, discount):\n",
    "    '''\n",
    "    This is where you write your documentation\n",
    "    Inputs:\n",
    "    -------\n",
    "    product: *dict* name of the product\n",
    "    discount: int percentage 0 to 100 that you want to discount\n",
    "    \n",
    "    Returns:\n",
    "    -------\n",
    "    price int, new price after discount\n",
    "    \n",
    "    Example:\n",
    "    apply_discount(shoes, 25)\n",
    "    '''\n",
    "    \n",
    "    if not isinstance(discount, float):\n",
    "        raise TypeError(\"The discount must be a number- not string\")\n",
    "        \n",
    "    discount = discount/100\n",
    "    discounted_price = int(product['price'] * (1.0 - discount))\n",
    "    print(discounted_price)\n",
    "    assert 0 <= discounted_price, \"Am I now giving the customer extra money????\"\n",
    "    assert discounted_price <= product['price'], \"Am I charging the customer extra money????\"\n",
    "\n",
    "    \n",
    "    return discounted_price\n",
    "\n",
    "\n"
   ]
  },
  {
   "cell_type": "code",
   "execution_count": null,
   "metadata": {},
   "outputs": [],
   "source": [
    "apply_discount(shoes, discount = 'twenty')"
   ]
  },
  {
   "cell_type": "markdown",
   "metadata": {},
   "source": [
    "Now, sometimes, when we are designing functions, we define the logic of the function before and write test functions to protect the logic. Then, we design with the testing function's help."
   ]
  },
  {
   "cell_type": "code",
   "execution_count": null,
   "metadata": {},
   "outputs": [],
   "source": [
    "def test_apply_discount():\n",
    "    shoes = {'name': 'Fancy Shoes', 'price': 320}\n",
    "    \n",
    "    assert apply_discount(shoes, 'twenty') is error, \"Am I now giving the customer extra money????\"\n",
    "    assert apply_discount(shoes, 25.0) <= shoes['price'], \"Am I charging the customer extra money????\"\n",
    "    \n",
    "    return \n",
    "\n",
    "test_apply_discount()"
   ]
  },
  {
   "cell_type": "code",
   "execution_count": null,
   "metadata": {
    "slideshow": {
     "slide_type": "slide"
    }
   },
   "outputs": [],
   "source": [
    "def apply_discount(product, discount):\n",
    "    '''\n",
    "    This is where you write your documentation\n",
    "    Inputs:\n",
    "    -------\n",
    "    product: *dict* name of the product\n",
    "    discount: int percentage 0 to 100 that you want to discount\n",
    "    \n",
    "    Returns:\n",
    "    -------\n",
    "    price int, new price after discount\n",
    "    \n",
    "    Example:\n",
    "    apply_discount(shoes, 25)\n",
    "    '''\n",
    "    discounted_price = None\n",
    "    discount = discount/100\n",
    "    discounted_price = int(product['price'] * (1.0 - discount))\n",
    "\n",
    "    \n",
    "    return discounted_price"
   ]
  },
  {
   "cell_type": "code",
   "execution_count": null,
   "metadata": {},
   "outputs": [],
   "source": [
    "?apply_discount"
   ]
  },
  {
   "cell_type": "code",
   "execution_count": null,
   "metadata": {},
   "outputs": [],
   "source": []
  }
 ],
 "metadata": {
  "celltoolbar": "Slideshow",
  "interpreter": {
   "hash": "a75bd6151e265d44863ae447c53c96ded6c20b4779439cdccf9ca698d6566769"
  },
  "kernelspec": {
   "display_name": "Python 3 (ipykernel)",
   "language": "python",
   "name": "python3"
  },
  "language_info": {
   "codemirror_mode": {
    "name": "ipython",
    "version": 3
   },
   "file_extension": ".py",
   "mimetype": "text/x-python",
   "name": "python",
   "nbconvert_exporter": "python",
   "pygments_lexer": "ipython3",
   "version": "3.9.12"
  }
 },
 "nbformat": 4,
 "nbformat_minor": 2
}
