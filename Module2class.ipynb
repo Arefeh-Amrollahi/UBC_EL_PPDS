{
 "cells": [
  {
   "cell_type": "markdown",
   "metadata": {},
   "source": [
    "## UBC\n",
    "#### Programming in Python for DS\n",
    "\n",
    "June 15, 2022  \n",
    "\n",
    "Instructor: Socorro Dominguez Vidana"
   ]
  },
  {
   "cell_type": "code",
   "execution_count": 1,
   "metadata": {},
   "outputs": [],
   "source": [
    "import pandas as pd"
   ]
  },
  {
   "cell_type": "markdown",
   "metadata": {
    "tags": []
   },
   "source": [
    "#### Module 2\n",
    "\n",
    "Overview:\n",
    "\n",
    "- [x] Demonstrate how to rename columns of a dataframe using .rename(). *Previous recording*\n",
    "- [] Create new or columns in a dataframe using .assign() notation.\n",
    "- [] Drop columns in a dataframe using .drop()\n",
    "- [] Use df[] notation to filter rows of a dataframe.\n",
    "- [] Calculate summary statistics on grouped objects using .groupby() and .agg().\n"
   ]
  },
  {
   "cell_type": "markdown",
   "metadata": {},
   "source": [
    "## `assign()`"
   ]
  },
  {
   "cell_type": "code",
   "execution_count": null,
   "metadata": {},
   "outputs": [],
   "source": [
    "df = pd.DataFrame({'Animal': ['Falcon', 'Falcon',\n",
    "                              'Parrot', 'Parrot'],\n",
    "                   'Max Speed': [380., 370., 24., 26.]})\n",
    "df"
   ]
  },
  {
   "cell_type": "markdown",
   "metadata": {},
   "source": [
    "with `.loc[]`"
   ]
  },
  {
   "cell_type": "code",
   "execution_count": null,
   "metadata": {},
   "outputs": [],
   "source": [
    "df.assign(name_col = df.loc[:, 'Max Speed']*2)"
   ]
  },
  {
   "cell_type": "code",
   "execution_count": null,
   "metadata": {},
   "outputs": [],
   "source": [
    "df"
   ]
  },
  {
   "cell_type": "markdown",
   "metadata": {},
   "source": [
    "without `.loc[]`"
   ]
  },
  {
   "cell_type": "code",
   "execution_count": null,
   "metadata": {},
   "outputs": [],
   "source": [
    "df.assign(name_col2 = df['Max Speed']*2)"
   ]
  },
  {
   "cell_type": "code",
   "execution_count": null,
   "metadata": {},
   "outputs": [],
   "source": [
    "df"
   ]
  },
  {
   "cell_type": "markdown",
   "metadata": {},
   "source": [
    "without `.assign()`"
   ]
  },
  {
   "cell_type": "code",
   "execution_count": null,
   "metadata": {},
   "outputs": [],
   "source": [
    "df['name_col3'] = df['Max Speed']*2"
   ]
  },
  {
   "cell_type": "code",
   "execution_count": null,
   "metadata": {},
   "outputs": [],
   "source": [
    "df"
   ]
  },
  {
   "cell_type": "markdown",
   "metadata": {},
   "source": [
    "## `.drop()`"
   ]
  },
  {
   "cell_type": "code",
   "execution_count": null,
   "metadata": {},
   "outputs": [],
   "source": [
    "df.drop(columns = 'Max Speed')"
   ]
  },
  {
   "cell_type": "code",
   "execution_count": null,
   "metadata": {},
   "outputs": [],
   "source": [
    "df.drop(columns = ['Animal', 'Max Speed'])"
   ]
  },
  {
   "cell_type": "code",
   "execution_count": null,
   "metadata": {},
   "outputs": [],
   "source": [
    "df"
   ]
  },
  {
   "cell_type": "code",
   "execution_count": null,
   "metadata": {},
   "outputs": [],
   "source": [
    "df.rename(columns = {'Max Speed':'max_speed', 'name_col3':'speedx2'})"
   ]
  },
  {
   "cell_type": "code",
   "execution_count": null,
   "metadata": {},
   "outputs": [],
   "source": [
    "df.columns = ['_animal', '_speed', '_speed2']"
   ]
  },
  {
   "cell_type": "code",
   "execution_count": null,
   "metadata": {},
   "outputs": [],
   "source": [
    "df"
   ]
  },
  {
   "cell_type": "markdown",
   "metadata": {},
   "source": [
    "## filter"
   ]
  },
  {
   "cell_type": "code",
   "execution_count": null,
   "metadata": {},
   "outputs": [],
   "source": [
    "df = pd.DataFrame({'Animal': ['Falcon', 'Falcon', 'Falcon',\n",
    "                              'Parrot', 'Parrot', 'Parrot'],\n",
    "                   'Max Speed': [380., 370., 320., 24., 26., 330]})\n",
    "df"
   ]
  },
  {
   "cell_type": "code",
   "execution_count": null,
   "metadata": {},
   "outputs": [],
   "source": [
    "df['Max Speed'] > 300"
   ]
  },
  {
   "cell_type": "code",
   "execution_count": null,
   "metadata": {},
   "outputs": [],
   "source": [
    "df[df['Max Speed'] > 300]"
   ]
  },
  {
   "cell_type": "code",
   "execution_count": null,
   "metadata": {},
   "outputs": [],
   "source": [
    "df[(_____) & (_____)]"
   ]
  },
  {
   "cell_type": "markdown",
   "metadata": {},
   "source": [
    "## `.groupby()`"
   ]
  },
  {
   "cell_type": "code",
   "execution_count": null,
   "metadata": {},
   "outputs": [],
   "source": [
    "df.groupby('Animal')"
   ]
  },
  {
   "cell_type": "markdown",
   "metadata": {},
   "source": [
    "**What does that even mean??**\n"
   ]
  },
  {
   "cell_type": "markdown",
   "metadata": {},
   "source": [
    "![](https://media1.giphy.com/media/FcuiZUneg1YRAu1lH2/giphy.gif?cid=ecf05e47t6tl4ppzchujy27worbrevfetpm299tixcfm7sk6&rid=giphy.gif&ct=g)"
   ]
  },
  {
   "cell_type": "code",
   "execution_count": null,
   "metadata": {},
   "outputs": [],
   "source": [
    "df2 = df.groupby('Animal').sum()"
   ]
  },
  {
   "cell_type": "markdown",
   "metadata": {},
   "source": [
    "`reset_index()`"
   ]
  },
  {
   "cell_type": "code",
   "execution_count": null,
   "metadata": {},
   "outputs": [],
   "source": [
    "df.groupby('Animal').sum().reset_index()"
   ]
  },
  {
   "cell_type": "code",
   "execution_count": null,
   "metadata": {},
   "outputs": [],
   "source": [
    "df.groupby('Animal', as_index=False).sum()"
   ]
  },
  {
   "cell_type": "code",
   "execution_count": null,
   "metadata": {},
   "outputs": [],
   "source": [
    "df2.columns"
   ]
  },
  {
   "cell_type": "code",
   "execution_count": null,
   "metadata": {},
   "outputs": [],
   "source": [
    "df2"
   ]
  },
  {
   "cell_type": "code",
   "execution_count": null,
   "metadata": {},
   "outputs": [],
   "source": [
    "df2[df2['Max Speed']> 1000]"
   ]
  },
  {
   "cell_type": "code",
   "execution_count": null,
   "metadata": {},
   "outputs": [],
   "source": [
    "df3 = df.groupby('Animal').agg({'Max Speed':['mean', 'sum']})\n",
    "df3"
   ]
  },
  {
   "cell_type": "code",
   "execution_count": null,
   "metadata": {},
   "outputs": [],
   "source": [
    "df3[df3['Max Speed', 'mean'] > 300]"
   ]
  },
  {
   "cell_type": "markdown",
   "metadata": {},
   "source": [
    "![](https://media2.giphy.com/media/26vIftJr40wzGUadO/giphy.gif?cid=ecf05e47fxk3e7r4f63dbi5cuaml8tn8bm2hn7boalbkydcd&rid=giphy.gif&ct=g)"
   ]
  },
  {
   "cell_type": "code",
   "execution_count": null,
   "metadata": {},
   "outputs": [],
   "source": [
    "df4 = df.groupby('Animal').agg(['mean', 'sum']).loc[:,'Max Speed'].reset_index()\n",
    "df4"
   ]
  },
  {
   "cell_type": "markdown",
   "metadata": {},
   "source": [
    "Is there only **ONE** way of doing things?"
   ]
  },
  {
   "cell_type": "markdown",
   "metadata": {},
   "source": [
    "![](https://media2.giphy.com/media/ftqLysT45BJMagKFuk/giphy.gif?cid=ecf05e47zx1vugxxgh9hyet02mwendrr6tfopa20ysvst7pi&rid=giphy.gif&ct=g)"
   ]
  },
  {
   "cell_type": "markdown",
   "metadata": {},
   "source": [
    "**The tests are a guide.**\n",
    "\n",
    "We cannot make very strict tests. \n",
    "- Inhibit your creativity. \n",
    "\n",
    "We cannot make very lenient tests.\n",
    "- Cannot test your output\n",
    "\n",
    "Tests are based on:\n",
    "- An ideal of best practices\n",
    "- Tidy data (more on this next week)\n",
    "- A bit of hand holding to make your life in future questions \"easier\"\n",
    "- Beginner friendly skills (if you are a pro, you might find them a bit limiting) \n",
    "\n"
   ]
  },
  {
   "cell_type": "markdown",
   "metadata": {},
   "source": [
    "Disclaimer:\n",
    "If you want the full mark, you need to pass the test.\n",
    "\n",
    "How?\n",
    "\n",
    "| NO | YES |\n",
    "| --- | --- |\n",
    "| ![](https://media3.giphy.com/media/9bXjoBk28pwnKLKoKb/giphy.gif?cid=ecf05e476d0x3f361cv2upqr8x6p1whtx5ggazdhrsoigmf0&rid=giphy.gif&ct=g) | ![](https://media4.giphy.com/media/anSiSGG5YaXeBn5gv4/giphy.gif?cid=ecf05e476d0x3f361cv2upqr8x6p1whtx5ggazdhrsoigmf0&rid=giphy.gif&ct=g)|\n",
    "\n",
    "Read the bottom part of the error messages, you might find them helpful."
   ]
  },
  {
   "cell_type": "code",
   "execution_count": 10,
   "metadata": {},
   "outputs": [
    {
     "data": {
      "text/html": [
       "<div>\n",
       "<style scoped>\n",
       "    .dataframe tbody tr th:only-of-type {\n",
       "        vertical-align: middle;\n",
       "    }\n",
       "\n",
       "    .dataframe tbody tr th {\n",
       "        vertical-align: top;\n",
       "    }\n",
       "\n",
       "    .dataframe thead th {\n",
       "        text-align: right;\n",
       "    }\n",
       "</style>\n",
       "<table border=\"1\" class=\"dataframe\">\n",
       "  <thead>\n",
       "    <tr style=\"text-align: right;\">\n",
       "      <th></th>\n",
       "      <th>No.</th>\n",
       "      <th>Age</th>\n",
       "      <th>Height</th>\n",
       "      <th>Weight</th>\n",
       "      <th>Country</th>\n",
       "      <th>Position</th>\n",
       "      <th>Experience</th>\n",
       "      <th>Birth Date</th>\n",
       "      <th>Salary</th>\n",
       "    </tr>\n",
       "    <tr>\n",
       "      <th>Player</th>\n",
       "      <th></th>\n",
       "      <th></th>\n",
       "      <th></th>\n",
       "      <th></th>\n",
       "      <th></th>\n",
       "      <th></th>\n",
       "      <th></th>\n",
       "      <th></th>\n",
       "      <th></th>\n",
       "    </tr>\n",
       "  </thead>\n",
       "  <tbody>\n",
       "    <tr>\n",
       "      <th>Justin Bailey</th>\n",
       "      <td>38</td>\n",
       "      <td>24</td>\n",
       "      <td>193</td>\n",
       "      <td>214</td>\n",
       "      <td>United States</td>\n",
       "      <td>Forward</td>\n",
       "      <td>4</td>\n",
       "      <td>01-Jul-95</td>\n",
       "      <td>700000.0</td>\n",
       "    </tr>\n",
       "    <tr>\n",
       "      <th>Jay Beagle</th>\n",
       "      <td>83</td>\n",
       "      <td>34</td>\n",
       "      <td>191</td>\n",
       "      <td>210</td>\n",
       "      <td>Canada</td>\n",
       "      <td>Forward</td>\n",
       "      <td>11</td>\n",
       "      <td>16-Oct-85</td>\n",
       "      <td>3200000.0</td>\n",
       "    </tr>\n",
       "    <tr>\n",
       "      <th>Jordie Benn</th>\n",
       "      <td>4</td>\n",
       "      <td>32</td>\n",
       "      <td>188</td>\n",
       "      <td>199</td>\n",
       "      <td>Canada</td>\n",
       "      <td>Defense</td>\n",
       "      <td>8</td>\n",
       "      <td>26-Jul-87</td>\n",
       "      <td>2400000.0</td>\n",
       "    </tr>\n",
       "    <tr>\n",
       "      <th>Guillaume Brisebois</th>\n",
       "      <td>56</td>\n",
       "      <td>22</td>\n",
       "      <td>188</td>\n",
       "      <td>175</td>\n",
       "      <td>Canada</td>\n",
       "      <td>Defense</td>\n",
       "      <td>1</td>\n",
       "      <td>21-Jul-97</td>\n",
       "      <td>700000.0</td>\n",
       "    </tr>\n",
       "    <tr>\n",
       "      <th>Thatcher Demko</th>\n",
       "      <td>35</td>\n",
       "      <td>24</td>\n",
       "      <td>193</td>\n",
       "      <td>192</td>\n",
       "      <td>United States</td>\n",
       "      <td>Goalie</td>\n",
       "      <td>2</td>\n",
       "      <td>08-Dec-95</td>\n",
       "      <td>900000.0</td>\n",
       "    </tr>\n",
       "  </tbody>\n",
       "</table>\n",
       "</div>"
      ],
      "text/plain": [
       "                     No.  Age  Height  Weight        Country Position  \\\n",
       "Player                                                                  \n",
       "Justin Bailey         38   24     193     214  United States  Forward   \n",
       "Jay Beagle            83   34     191     210         Canada  Forward   \n",
       "Jordie Benn            4   32     188     199         Canada  Defense   \n",
       "Guillaume Brisebois   56   22     188     175         Canada  Defense   \n",
       "Thatcher Demko        35   24     193     192  United States   Goalie   \n",
       "\n",
       "                     Experience Birth Date     Salary  \n",
       "Player                                                 \n",
       "Justin Bailey                 4  01-Jul-95   700000.0  \n",
       "Jay Beagle                   11  16-Oct-85  3200000.0  \n",
       "Jordie Benn                   8  26-Jul-87  2400000.0  \n",
       "Guillaume Brisebois           1  21-Jul-97   700000.0  \n",
       "Thatcher Demko                2  08-Dec-95   900000.0  "
      ]
     },
     "execution_count": 10,
     "metadata": {},
     "output_type": "execute_result"
    }
   ],
   "source": [
    "pd.read_csv('https://raw.githubusercontent.com/UBC-MDS/programming-in-python-for-data-science/master/data/canucks.csv', index_col='Player').head()\n"
   ]
  },
  {
   "cell_type": "code",
   "execution_count": 13,
   "metadata": {},
   "outputs": [
    {
     "data": {
      "text/html": [
       "<div>\n",
       "<style scoped>\n",
       "    .dataframe tbody tr th:only-of-type {\n",
       "        vertical-align: middle;\n",
       "    }\n",
       "\n",
       "    .dataframe tbody tr th {\n",
       "        vertical-align: top;\n",
       "    }\n",
       "\n",
       "    .dataframe thead th {\n",
       "        text-align: right;\n",
       "    }\n",
       "</style>\n",
       "<table border=\"1\" class=\"dataframe\">\n",
       "  <thead>\n",
       "    <tr style=\"text-align: right;\">\n",
       "      <th></th>\n",
       "      <th>No.</th>\n",
       "      <th>Age</th>\n",
       "      <th>Height</th>\n",
       "      <th>Weight</th>\n",
       "      <th>Country</th>\n",
       "      <th>Position</th>\n",
       "      <th>Experience</th>\n",
       "      <th>Birth Date</th>\n",
       "      <th>Salary</th>\n",
       "    </tr>\n",
       "    <tr>\n",
       "      <th>Player</th>\n",
       "      <th></th>\n",
       "      <th></th>\n",
       "      <th></th>\n",
       "      <th></th>\n",
       "      <th></th>\n",
       "      <th></th>\n",
       "      <th></th>\n",
       "      <th></th>\n",
       "      <th></th>\n",
       "    </tr>\n",
       "  </thead>\n",
       "  <tbody>\n",
       "    <tr>\n",
       "      <th>Justin Bailey</th>\n",
       "      <td>38</td>\n",
       "      <td>24</td>\n",
       "      <td>193</td>\n",
       "      <td>214</td>\n",
       "      <td>United States</td>\n",
       "      <td>Forward</td>\n",
       "      <td>4</td>\n",
       "      <td>01-Jul-95</td>\n",
       "      <td>700000.0</td>\n",
       "    </tr>\n",
       "    <tr>\n",
       "      <th>Jay Beagle</th>\n",
       "      <td>83</td>\n",
       "      <td>34</td>\n",
       "      <td>191</td>\n",
       "      <td>210</td>\n",
       "      <td>Canada</td>\n",
       "      <td>Forward</td>\n",
       "      <td>11</td>\n",
       "      <td>16-Oct-85</td>\n",
       "      <td>3200000.0</td>\n",
       "    </tr>\n",
       "    <tr>\n",
       "      <th>Jordie Benn</th>\n",
       "      <td>4</td>\n",
       "      <td>32</td>\n",
       "      <td>188</td>\n",
       "      <td>199</td>\n",
       "      <td>Canada</td>\n",
       "      <td>Defense</td>\n",
       "      <td>8</td>\n",
       "      <td>26-Jul-87</td>\n",
       "      <td>2400000.0</td>\n",
       "    </tr>\n",
       "    <tr>\n",
       "      <th>Guillaume Brisebois</th>\n",
       "      <td>56</td>\n",
       "      <td>22</td>\n",
       "      <td>188</td>\n",
       "      <td>175</td>\n",
       "      <td>Canada</td>\n",
       "      <td>Defense</td>\n",
       "      <td>1</td>\n",
       "      <td>21-Jul-97</td>\n",
       "      <td>700000.0</td>\n",
       "    </tr>\n",
       "    <tr>\n",
       "      <th>Thatcher Demko</th>\n",
       "      <td>35</td>\n",
       "      <td>24</td>\n",
       "      <td>193</td>\n",
       "      <td>192</td>\n",
       "      <td>United States</td>\n",
       "      <td>Goalie</td>\n",
       "      <td>2</td>\n",
       "      <td>08-Dec-95</td>\n",
       "      <td>900000.0</td>\n",
       "    </tr>\n",
       "    <tr>\n",
       "      <th>Alexander Edler</th>\n",
       "      <td>23</td>\n",
       "      <td>33</td>\n",
       "      <td>191</td>\n",
       "      <td>212</td>\n",
       "      <td>Swedan</td>\n",
       "      <td>Defense</td>\n",
       "      <td>13</td>\n",
       "      <td>21-Apr-86</td>\n",
       "      <td>7000000.0</td>\n",
       "    </tr>\n",
       "    <tr>\n",
       "      <th>Loui Eriksson</th>\n",
       "      <td>21</td>\n",
       "      <td>34</td>\n",
       "      <td>188</td>\n",
       "      <td>179</td>\n",
       "      <td>Swedan</td>\n",
       "      <td>Forward</td>\n",
       "      <td>13</td>\n",
       "      <td>17-Jul-85</td>\n",
       "      <td>5000000.0</td>\n",
       "    </tr>\n",
       "    <tr>\n",
       "      <th>Adam Gaudette</th>\n",
       "      <td>88</td>\n",
       "      <td>23</td>\n",
       "      <td>185</td>\n",
       "      <td>184</td>\n",
       "      <td>United States</td>\n",
       "      <td>Forward</td>\n",
       "      <td>2</td>\n",
       "      <td>03-Oct-96</td>\n",
       "      <td>925000.0</td>\n",
       "    </tr>\n",
       "    <tr>\n",
       "      <th>Bo Horvat (C)</th>\n",
       "      <td>53</td>\n",
       "      <td>24</td>\n",
       "      <td>183</td>\n",
       "      <td>215</td>\n",
       "      <td>Canada</td>\n",
       "      <td>Forward</td>\n",
       "      <td>5</td>\n",
       "      <td>05-Apr-95</td>\n",
       "      <td>5775000.0</td>\n",
       "    </tr>\n",
       "    <tr>\n",
       "      <th>Quinn Hughes</th>\n",
       "      <td>43</td>\n",
       "      <td>20</td>\n",
       "      <td>178</td>\n",
       "      <td>175</td>\n",
       "      <td>United States</td>\n",
       "      <td>Defense</td>\n",
       "      <td>1</td>\n",
       "      <td>14-Oct-99</td>\n",
       "      <td>NaN</td>\n",
       "    </tr>\n",
       "    <tr>\n",
       "      <th>Zack MacEwen</th>\n",
       "      <td>71</td>\n",
       "      <td>23</td>\n",
       "      <td>191</td>\n",
       "      <td>205</td>\n",
       "      <td>Canada</td>\n",
       "      <td>Forward</td>\n",
       "      <td>1</td>\n",
       "      <td>08-Jul-96</td>\n",
       "      <td>925000.0</td>\n",
       "    </tr>\n",
       "    <tr>\n",
       "      <th>Jacob Markstrom</th>\n",
       "      <td>25</td>\n",
       "      <td>30</td>\n",
       "      <td>198</td>\n",
       "      <td>206</td>\n",
       "      <td>Swedan</td>\n",
       "      <td>Goalie</td>\n",
       "      <td>9</td>\n",
       "      <td>31-Jan-90</td>\n",
       "      <td>4000000.0</td>\n",
       "    </tr>\n",
       "    <tr>\n",
       "      <th>J.T. Miller</th>\n",
       "      <td>9</td>\n",
       "      <td>26</td>\n",
       "      <td>185</td>\n",
       "      <td>218</td>\n",
       "      <td>United States</td>\n",
       "      <td>Forward</td>\n",
       "      <td>7</td>\n",
       "      <td>14-Mar-93</td>\n",
       "      <td>6000000.0</td>\n",
       "    </tr>\n",
       "    <tr>\n",
       "      <th>Tyler Myers</th>\n",
       "      <td>57</td>\n",
       "      <td>29</td>\n",
       "      <td>203</td>\n",
       "      <td>229</td>\n",
       "      <td>United States</td>\n",
       "      <td>Defense</td>\n",
       "      <td>10</td>\n",
       "      <td>01-Feb-90</td>\n",
       "      <td>7000000.0</td>\n",
       "    </tr>\n",
       "    <tr>\n",
       "      <th>Tanner Pearson</th>\n",
       "      <td>70</td>\n",
       "      <td>27</td>\n",
       "      <td>185</td>\n",
       "      <td>201</td>\n",
       "      <td>Canada</td>\n",
       "      <td>Forward</td>\n",
       "      <td>6</td>\n",
       "      <td>10-Aug-92</td>\n",
       "      <td>3850000.0</td>\n",
       "    </tr>\n",
       "    <tr>\n",
       "      <th>Elias Pettersson</th>\n",
       "      <td>40</td>\n",
       "      <td>21</td>\n",
       "      <td>188</td>\n",
       "      <td>176</td>\n",
       "      <td>Swedan</td>\n",
       "      <td>Forward</td>\n",
       "      <td>1</td>\n",
       "      <td>12-Nov-98</td>\n",
       "      <td>925000.0</td>\n",
       "    </tr>\n",
       "    <tr>\n",
       "      <th>Antoine Roussel</th>\n",
       "      <td>26</td>\n",
       "      <td>30</td>\n",
       "      <td>180</td>\n",
       "      <td>199</td>\n",
       "      <td>France</td>\n",
       "      <td>Forward</td>\n",
       "      <td>7</td>\n",
       "      <td>21-Nov-89</td>\n",
       "      <td>3800000.0</td>\n",
       "    </tr>\n",
       "    <tr>\n",
       "      <th>Tim Schaller</th>\n",
       "      <td>59</td>\n",
       "      <td>29</td>\n",
       "      <td>188</td>\n",
       "      <td>204</td>\n",
       "      <td>United States</td>\n",
       "      <td>Forward</td>\n",
       "      <td>5</td>\n",
       "      <td>16-Nov-90</td>\n",
       "      <td>1900000.0</td>\n",
       "    </tr>\n",
       "    <tr>\n",
       "      <th>Troy Stecher</th>\n",
       "      <td>51</td>\n",
       "      <td>25</td>\n",
       "      <td>178</td>\n",
       "      <td>186</td>\n",
       "      <td>Canada</td>\n",
       "      <td>Defense</td>\n",
       "      <td>3</td>\n",
       "      <td>07-Apr-94</td>\n",
       "      <td>2325000.0</td>\n",
       "    </tr>\n",
       "    <tr>\n",
       "      <th>Brandon Sutter</th>\n",
       "      <td>20</td>\n",
       "      <td>30</td>\n",
       "      <td>191</td>\n",
       "      <td>190</td>\n",
       "      <td>United States</td>\n",
       "      <td>Forward</td>\n",
       "      <td>11</td>\n",
       "      <td>14-Feb-89</td>\n",
       "      <td>4500000.0</td>\n",
       "    </tr>\n",
       "    <tr>\n",
       "      <th>Christopher Tanev</th>\n",
       "      <td>8</td>\n",
       "      <td>30</td>\n",
       "      <td>188</td>\n",
       "      <td>197</td>\n",
       "      <td>Canada</td>\n",
       "      <td>Defense</td>\n",
       "      <td>9</td>\n",
       "      <td>20-Dec-89</td>\n",
       "      <td>NaN</td>\n",
       "    </tr>\n",
       "    <tr>\n",
       "      <th>Jake Virtanen</th>\n",
       "      <td>18</td>\n",
       "      <td>23</td>\n",
       "      <td>185</td>\n",
       "      <td>226</td>\n",
       "      <td>Canada</td>\n",
       "      <td>Forward</td>\n",
       "      <td>4</td>\n",
       "      <td>17-Aug-96</td>\n",
       "      <td>1500000.0</td>\n",
       "    </tr>\n",
       "  </tbody>\n",
       "</table>\n",
       "</div>"
      ],
      "text/plain": [
       "                     No.  Age  Height  Weight        Country Position  \\\n",
       "Player                                                                  \n",
       "Justin Bailey         38   24     193     214  United States  Forward   \n",
       "Jay Beagle            83   34     191     210         Canada  Forward   \n",
       "Jordie Benn            4   32     188     199         Canada  Defense   \n",
       "Guillaume Brisebois   56   22     188     175         Canada  Defense   \n",
       "Thatcher Demko        35   24     193     192  United States   Goalie   \n",
       "Alexander Edler       23   33     191     212         Swedan  Defense   \n",
       "Loui Eriksson         21   34     188     179         Swedan  Forward   \n",
       "Adam Gaudette         88   23     185     184  United States  Forward   \n",
       "Bo Horvat (C)         53   24     183     215         Canada  Forward   \n",
       "Quinn Hughes          43   20     178     175  United States  Defense   \n",
       "Zack MacEwen          71   23     191     205         Canada  Forward   \n",
       "Jacob Markstrom       25   30     198     206         Swedan   Goalie   \n",
       "J.T. Miller            9   26     185     218  United States  Forward   \n",
       "Tyler Myers           57   29     203     229  United States  Defense   \n",
       "Tanner Pearson        70   27     185     201         Canada  Forward   \n",
       "Elias Pettersson      40   21     188     176         Swedan  Forward   \n",
       "Antoine Roussel       26   30     180     199         France  Forward   \n",
       "Tim Schaller          59   29     188     204  United States  Forward   \n",
       "Troy Stecher          51   25     178     186         Canada  Defense   \n",
       "Brandon Sutter        20   30     191     190  United States  Forward   \n",
       "Christopher Tanev      8   30     188     197         Canada  Defense   \n",
       "Jake Virtanen         18   23     185     226         Canada  Forward   \n",
       "\n",
       "                     Experience Birth Date     Salary  \n",
       "Player                                                 \n",
       "Justin Bailey                 4  01-Jul-95   700000.0  \n",
       "Jay Beagle                   11  16-Oct-85  3200000.0  \n",
       "Jordie Benn                   8  26-Jul-87  2400000.0  \n",
       "Guillaume Brisebois           1  21-Jul-97   700000.0  \n",
       "Thatcher Demko                2  08-Dec-95   900000.0  \n",
       "Alexander Edler              13  21-Apr-86  7000000.0  \n",
       "Loui Eriksson                13  17-Jul-85  5000000.0  \n",
       "Adam Gaudette                 2  03-Oct-96   925000.0  \n",
       "Bo Horvat (C)                 5  05-Apr-95  5775000.0  \n",
       "Quinn Hughes                  1  14-Oct-99        NaN  \n",
       "Zack MacEwen                  1  08-Jul-96   925000.0  \n",
       "Jacob Markstrom               9  31-Jan-90  4000000.0  \n",
       "J.T. Miller                   7  14-Mar-93  6000000.0  \n",
       "Tyler Myers                  10  01-Feb-90  7000000.0  \n",
       "Tanner Pearson                6  10-Aug-92  3850000.0  \n",
       "Elias Pettersson              1  12-Nov-98   925000.0  \n",
       "Antoine Roussel               7  21-Nov-89  3800000.0  \n",
       "Tim Schaller                  5  16-Nov-90  1900000.0  \n",
       "Troy Stecher                  3  07-Apr-94  2325000.0  \n",
       "Brandon Sutter               11  14-Feb-89  4500000.0  \n",
       "Christopher Tanev             9  20-Dec-89        NaN  \n",
       "Jake Virtanen                 4  17-Aug-96  1500000.0  "
      ]
     },
     "execution_count": 13,
     "metadata": {},
     "output_type": "execute_result"
    }
   ],
   "source": [
    "df = pd.read_csv('https://raw.githubusercontent.com/UBC-MDS/programming-in-python-for-data-science/master/data/canucks.csv')\n",
    "df.set_index('Player')"
   ]
  },
  {
   "cell_type": "markdown",
   "metadata": {},
   "source": [
    "### Extra (time allowing)"
   ]
  },
  {
   "cell_type": "code",
   "execution_count": null,
   "metadata": {},
   "outputs": [],
   "source": [
    "df\n"
   ]
  },
  {
   "cell_type": "code",
   "execution_count": null,
   "metadata": {},
   "outputs": [],
   "source": [
    "import numpy as np\n",
    "\n",
    "conditions = [\n",
    "    ((df['Animal'] == 'Falcon') & (df['Max Speed'] < 350)),\n",
    "    ((df['Animal'] == 'Falcon') & (df['Max Speed'] >= 350)),\n",
    "    ((df['Animal'] == 'Parrot') & (df['Max Speed'] <= 300)),\n",
    "    ((df['Animal'] == 'Parrot') & (df['Max Speed'] > 300))\n",
    "    ]\n",
    "\n",
    "# create a list of the values we want to assign for each condition\n",
    "values = ['slow_falcon', 'fast_falcon', 'avg_parrot', 'vfast_parrot']\n",
    "\n",
    "# create a new column and use np.select to assign values to it using our lists as arguments\n",
    "df['class'] = np.select(conditions, values)\n",
    "\n",
    "df"
   ]
  },
  {
   "cell_type": "code",
   "execution_count": null,
   "metadata": {},
   "outputs": [],
   "source": []
  }
 ],
 "metadata": {
  "kernelspec": {
   "display_name": "Python 3",
   "language": "python",
   "name": "python3"
  },
  "language_info": {
   "codemirror_mode": {
    "name": "ipython",
    "version": 3
   },
   "file_extension": ".py",
   "mimetype": "text/x-python",
   "name": "python",
   "nbconvert_exporter": "python",
   "pygments_lexer": "ipython3",
   "version": "3.8.5"
  }
 },
 "nbformat": 4,
 "nbformat_minor": 4
}
