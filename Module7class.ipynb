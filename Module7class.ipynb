{
 "cells": [
  {
   "cell_type": "markdown",
   "metadata": {
    "slideshow": {
     "slide_type": "slide"
    }
   },
   "source": [
    "# Importing Functions\n",
    "\n",
    "## UBC MDS Extended Learning\n",
    "\n",
    "### November 28"
   ]
  },
  {
   "cell_type": "code",
   "execution_count": 1,
   "metadata": {
    "slideshow": {
     "slide_type": "skip"
    }
   },
   "outputs": [],
   "source": [
    "import numpy as np\n",
    "import pandas as pd"
   ]
  },
  {
   "cell_type": "markdown",
   "metadata": {
    "slideshow": {
     "slide_type": "slide"
    }
   },
   "source": [
    "## Functions"
   ]
  },
  {
   "cell_type": "code",
   "execution_count": 2,
   "metadata": {
    "slideshow": {
     "slide_type": "fragment"
    }
   },
   "outputs": [
    {
     "name": "stdout",
     "output_type": "stream",
     "text": [
      "The log of 5 is 1.6094379124341003.\n"
     ]
    }
   ],
   "source": [
    "def log_function(happy_number):\n",
    "    z = np.log(happy_number)\n",
    "    print(f\"The log of {happy_number} is {z}.\")\n",
    "    return z\n",
    "\n",
    "log_five = log_function(5)"
   ]
  },
  {
   "cell_type": "markdown",
   "metadata": {
    "slideshow": {
     "slide_type": "slide"
    }
   },
   "source": [
    "### Modularity\n",
    "Functions allow complex processes to be broken up into smaller steps.\n",
    "Imagine, for example, that you have a program that reads in a file, processes the file contents, and then writes an output file. Your code could look like this:"
   ]
  },
  {
   "cell_type": "markdown",
   "metadata": {
    "slideshow": {
     "slide_type": "fragment"
    }
   },
   "source": [
    "```\n",
    "# Main program\n",
    "# Code to read file in\n",
    "<statement>\n",
    "<statement>\n",
    "<statement>\n",
    "<statement>\n",
    "# Code to process file\n",
    "<statement>\n",
    "<statement>\n",
    "<statement>\n",
    "<statement>\n",
    "# Code to write file out\n",
    "<statement>\n",
    "<statement>\n",
    "<statement>\n",
    "<statement>\n",
    "```"
   ]
  },
  {
   "cell_type": "markdown",
   "metadata": {
    "slideshow": {
     "slide_type": "slide"
    }
   },
   "source": [
    "Alternatively, you could structure the code more like the following:\n",
    "\n",
    "```\n",
    "# Main program\n",
    "read_file()\n",
    "process_file()\n",
    "write_file()\n",
    "```"
   ]
  },
  {
   "cell_type": "markdown",
   "metadata": {
    "slideshow": {
     "slide_type": "fragment"
    }
   },
   "source": [
    "PS. Here, you do have three scripts where you have defined the functions.  For example:\n",
    "```\n",
    "def read_file():\n",
    "# Code to read file in\n",
    "<statement>\n",
    "<statement>\n",
    "<statement>\n",
    "<statement>\n",
    "```"
   ]
  },
  {
   "cell_type": "markdown",
   "metadata": {
    "slideshow": {
     "slide_type": "slide"
    }
   },
   "source": [
    "### Function Calls and Definition \n",
    "\n",
    "A programming function is written as:\n",
    "\n",
    "```\n",
    "def <function_name>([<parameters>]):\n",
    "    '''\n",
    "    Docstrings\n",
    "    '''\n",
    "    <statement(s)>\n",
    "    <return>\n",
    "```"
   ]
  },
  {
   "cell_type": "markdown",
   "metadata": {},
   "source": [
    "## Explaining for loops in groupby objects."
   ]
  },
  {
   "cell_type": "code",
   "execution_count": 3,
   "metadata": {},
   "outputs": [
    {
     "data": {
      "text/html": [
       "<div>\n",
       "<style scoped>\n",
       "    .dataframe tbody tr th:only-of-type {\n",
       "        vertical-align: middle;\n",
       "    }\n",
       "\n",
       "    .dataframe tbody tr th {\n",
       "        vertical-align: top;\n",
       "    }\n",
       "\n",
       "    .dataframe thead th {\n",
       "        text-align: right;\n",
       "    }\n",
       "</style>\n",
       "<table border=\"1\" class=\"dataframe\">\n",
       "  <thead>\n",
       "    <tr style=\"text-align: right;\">\n",
       "      <th></th>\n",
       "      <th>employee_id</th>\n",
       "      <th>name</th>\n",
       "      <th>neighbourhood</th>\n",
       "      <th>type</th>\n",
       "      <th>hourly_rate</th>\n",
       "    </tr>\n",
       "  </thead>\n",
       "  <tbody>\n",
       "    <tr>\n",
       "      <th>0</th>\n",
       "      <td>1873</td>\n",
       "      <td>Josh</td>\n",
       "      <td>Sunset</td>\n",
       "      <td>full-time</td>\n",
       "      <td>25.0</td>\n",
       "    </tr>\n",
       "    <tr>\n",
       "      <th>1</th>\n",
       "      <td>4913</td>\n",
       "      <td>Laura</td>\n",
       "      <td>West end</td>\n",
       "      <td>part-time</td>\n",
       "      <td>27.0</td>\n",
       "    </tr>\n",
       "    <tr>\n",
       "      <th>2</th>\n",
       "      <td>4801</td>\n",
       "      <td>Hayley</td>\n",
       "      <td>Kitsilano</td>\n",
       "      <td>part-time</td>\n",
       "      <td>30.0</td>\n",
       "    </tr>\n",
       "    <tr>\n",
       "      <th>3</th>\n",
       "      <td>4540</td>\n",
       "      <td>Mike</td>\n",
       "      <td>Sunset</td>\n",
       "      <td>full-time</td>\n",
       "      <td>25.5</td>\n",
       "    </tr>\n",
       "    <tr>\n",
       "      <th>4</th>\n",
       "      <td>3581</td>\n",
       "      <td>Tiffany</td>\n",
       "      <td>Arbutus-ridge</td>\n",
       "      <td>part-time</td>\n",
       "      <td>32.0</td>\n",
       "    </tr>\n",
       "    <tr>\n",
       "      <th>5</th>\n",
       "      <td>4534</td>\n",
       "      <td>Anurag</td>\n",
       "      <td>Arbutus-ridge</td>\n",
       "      <td>full-time</td>\n",
       "      <td>26.5</td>\n",
       "    </tr>\n",
       "    <tr>\n",
       "      <th>6</th>\n",
       "      <td>1934</td>\n",
       "      <td>Rocio</td>\n",
       "      <td>Kitsilano</td>\n",
       "      <td>full-time</td>\n",
       "      <td>27.0</td>\n",
       "    </tr>\n",
       "    <tr>\n",
       "      <th>7</th>\n",
       "      <td>4944</td>\n",
       "      <td>Eric</td>\n",
       "      <td>West end</td>\n",
       "      <td>part-time</td>\n",
       "      <td>28.0</td>\n",
       "    </tr>\n",
       "    <tr>\n",
       "      <th>8</th>\n",
       "      <td>1983</td>\n",
       "      <td>Monique</td>\n",
       "      <td>Kitsilano</td>\n",
       "      <td>part-time</td>\n",
       "      <td>25.5</td>\n",
       "    </tr>\n",
       "    <tr>\n",
       "      <th>9</th>\n",
       "      <td>1266</td>\n",
       "      <td>Emma</td>\n",
       "      <td>Arbutus-ridge</td>\n",
       "      <td>full-time</td>\n",
       "      <td>23.0</td>\n",
       "    </tr>\n",
       "  </tbody>\n",
       "</table>\n",
       "</div>"
      ],
      "text/plain": [
       "   employee_id     name  neighbourhood       type  hourly_rate\n",
       "0         1873     Josh         Sunset  full-time         25.0\n",
       "1         4913    Laura       West end  part-time         27.0\n",
       "2         4801   Hayley      Kitsilano  part-time         30.0\n",
       "3         4540     Mike         Sunset  full-time         25.5\n",
       "4         3581  Tiffany  Arbutus-ridge  part-time         32.0\n",
       "5         4534   Anurag  Arbutus-ridge  full-time         26.5\n",
       "6         1934    Rocio      Kitsilano  full-time         27.0\n",
       "7         4944     Eric       West end  part-time         28.0\n",
       "8         1983  Monique      Kitsilano  part-time         25.5\n",
       "9         1266     Emma  Arbutus-ridge  full-time         23.0"
      ]
     },
     "execution_count": 3,
     "metadata": {},
     "output_type": "execute_result"
    }
   ],
   "source": [
    "a_dict = {'employee_id': [1873, 4913, 4801, 4540, 3581,\n",
    "                   4534, 1934, 4944, 1983, 1266], \n",
    "           'name': ['Josh', 'Laura', 'Hayley', \n",
    "                    'Mike', 'Tiffany', 'Anurag',\n",
    "                    'Rocio', 'Eric', 'Monique',\n",
    "                    'Emma'], \n",
    "            'neighbourhood': ['Sunset','West end','Kitsilano', 'Sunset', \n",
    "                              'Arbutus-ridge','Arbutus-ridge', 'Kitsilano', \n",
    "                              'West end','Kitsilano', 'Arbutus-ridge'],\n",
    "            'type': ['full-time', 'part-time', 'part-time', 'full-time', 'part-time',\n",
    "                     'full-time', 'full-time', 'part-time', 'part-time', 'full-time'],\n",
    "            'hourly_rate': [25.0, 27.0, 30.0, 25.5, 32.0,\n",
    "                         26.5, 27.0, 28.0, 25.5, 23.0]}\n",
    "\n",
    "data = pd.DataFrame.from_dict(a_dict)\n",
    "data"
   ]
  },
  {
   "cell_type": "code",
   "execution_count": 4,
   "metadata": {},
   "outputs": [
    {
     "data": {
      "text/html": [
       "<div>\n",
       "<style scoped>\n",
       "    .dataframe tbody tr th:only-of-type {\n",
       "        vertical-align: middle;\n",
       "    }\n",
       "\n",
       "    .dataframe tbody tr th {\n",
       "        vertical-align: top;\n",
       "    }\n",
       "\n",
       "    .dataframe thead th {\n",
       "        text-align: right;\n",
       "    }\n",
       "</style>\n",
       "<table border=\"1\" class=\"dataframe\">\n",
       "  <thead>\n",
       "    <tr style=\"text-align: right;\">\n",
       "      <th></th>\n",
       "      <th>employee_id</th>\n",
       "      <th>name</th>\n",
       "      <th>neighbourhood</th>\n",
       "      <th>type</th>\n",
       "      <th>hourly_rate</th>\n",
       "    </tr>\n",
       "  </thead>\n",
       "  <tbody>\n",
       "    <tr>\n",
       "      <th>0</th>\n",
       "      <td>1873</td>\n",
       "      <td>Josh</td>\n",
       "      <td>Sunset</td>\n",
       "      <td>full-time</td>\n",
       "      <td>25.0</td>\n",
       "    </tr>\n",
       "    <tr>\n",
       "      <th>3</th>\n",
       "      <td>4540</td>\n",
       "      <td>Mike</td>\n",
       "      <td>Sunset</td>\n",
       "      <td>full-time</td>\n",
       "      <td>25.5</td>\n",
       "    </tr>\n",
       "    <tr>\n",
       "      <th>5</th>\n",
       "      <td>4534</td>\n",
       "      <td>Anurag</td>\n",
       "      <td>Arbutus-ridge</td>\n",
       "      <td>full-time</td>\n",
       "      <td>26.5</td>\n",
       "    </tr>\n",
       "    <tr>\n",
       "      <th>6</th>\n",
       "      <td>1934</td>\n",
       "      <td>Rocio</td>\n",
       "      <td>Kitsilano</td>\n",
       "      <td>full-time</td>\n",
       "      <td>27.0</td>\n",
       "    </tr>\n",
       "    <tr>\n",
       "      <th>9</th>\n",
       "      <td>1266</td>\n",
       "      <td>Emma</td>\n",
       "      <td>Arbutus-ridge</td>\n",
       "      <td>full-time</td>\n",
       "      <td>23.0</td>\n",
       "    </tr>\n",
       "  </tbody>\n",
       "</table>\n",
       "</div>"
      ],
      "text/plain": [
       "   employee_id    name  neighbourhood       type  hourly_rate\n",
       "0         1873    Josh         Sunset  full-time         25.0\n",
       "3         4540    Mike         Sunset  full-time         25.5\n",
       "5         4534  Anurag  Arbutus-ridge  full-time         26.5\n",
       "6         1934   Rocio      Kitsilano  full-time         27.0\n",
       "9         1266    Emma  Arbutus-ridge  full-time         23.0"
      ]
     },
     "execution_count": 4,
     "metadata": {},
     "output_type": "execute_result"
    }
   ],
   "source": [
    "data.groupby('type').get_group('full-time')"
   ]
  },
  {
   "cell_type": "code",
   "execution_count": 5,
   "metadata": {},
   "outputs": [],
   "source": [
    "grouped_df = data.groupby('type')"
   ]
  },
  {
   "cell_type": "code",
   "execution_count": 6,
   "metadata": {},
   "outputs": [
    {
     "data": {
      "text/plain": [
       "<pandas.core.groupby.generic.DataFrameGroupBy object at 0x106b38190>"
      ]
     },
     "execution_count": 6,
     "metadata": {},
     "output_type": "execute_result"
    }
   ],
   "source": [
    "grouped_df"
   ]
  },
  {
   "cell_type": "code",
   "execution_count": 7,
   "metadata": {},
   "outputs": [
    {
     "name": "stdout",
     "output_type": "stream",
     "text": [
      "   employee_id    name  neighbourhood       type  hourly_rate\n",
      "0         1873    Josh         Sunset  full-time         25.0\n",
      "3         4540    Mike         Sunset  full-time         25.5\n",
      "5         4534  Anurag  Arbutus-ridge  full-time         26.5\n",
      "6         1934   Rocio      Kitsilano  full-time         27.0\n",
      "9         1266    Emma  Arbutus-ridge  full-time         23.0\n",
      "   employee_id     name  neighbourhood       type  hourly_rate\n",
      "1         4913    Laura       West end  part-time         27.0\n",
      "2         4801   Hayley      Kitsilano  part-time         30.0\n",
      "4         3581  Tiffany  Arbutus-ridge  part-time         32.0\n",
      "7         4944     Eric       West end  part-time         28.0\n",
      "8         1983  Monique      Kitsilano  part-time         25.5\n"
     ]
    }
   ],
   "source": [
    "for group, rows in grouped_df:\n",
    "    print(rows)"
   ]
  },
  {
   "cell_type": "code",
   "execution_count": 8,
   "metadata": {},
   "outputs": [
    {
     "name": "stdout",
     "output_type": "stream",
     "text": [
      "   employee_id   name neighbourhood       type  hourly_rate\n",
      "6         1934  Rocio     Kitsilano  full-time         27.0\n",
      "   employee_id   name neighbourhood       type  hourly_rate\n",
      "1         4913  Laura      West end  part-time         27.0\n"
     ]
    }
   ],
   "source": [
    "for group, rows in grouped_df:\n",
    "    print(rows.sample(1))"
   ]
  },
  {
   "cell_type": "code",
   "execution_count": 9,
   "metadata": {},
   "outputs": [
    {
     "name": "stdout",
     "output_type": "stream",
     "text": [
      "full-time\n",
      "part-time\n"
     ]
    }
   ],
   "source": [
    "for group, rows in grouped_df:\n",
    "    print(group)"
   ]
  },
  {
   "cell_type": "code",
   "execution_count": 10,
   "metadata": {},
   "outputs": [
    {
     "name": "stdout",
     "output_type": "stream",
     "text": [
      "full-time\n",
      "None    employee_id  name neighbourhood       type  hourly_rate\n",
      "0         1873  Josh        Sunset  full-time         25.0\n",
      "part-time\n",
      "None    employee_id  name neighbourhood       type  hourly_rate\n",
      "7         4944  Eric      West end  part-time         28.0\n"
     ]
    }
   ],
   "source": [
    "for group, rows in grouped_df:\n",
    "    print(print(group), rows.sample(1))"
   ]
  }
 ],
 "metadata": {
  "celltoolbar": "Slideshow",
  "interpreter": {
   "hash": "a75bd6151e265d44863ae447c53c96ded6c20b4779439cdccf9ca698d6566769"
  },
  "kernelspec": {
   "display_name": "Python 3 (ipykernel)",
   "language": "python",
   "name": "python3"
  },
  "language_info": {
   "codemirror_mode": {
    "name": "ipython",
    "version": 3
   },
   "file_extension": ".py",
   "mimetype": "text/x-python",
   "name": "python",
   "nbconvert_exporter": "python",
   "pygments_lexer": "ipython3",
   "version": "3.9.12"
  }
 },
 "nbformat": 4,
 "nbformat_minor": 2
}
