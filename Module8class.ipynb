{
 "cells": [
  {
   "cell_type": "code",
   "execution_count": 4,
   "metadata": {},
   "outputs": [],
   "source": [
    "# Import libraries needed for this lab\n",
    "import pandas as pd\n",
    "import numpy as np\n",
    "\n",
    "import inspect"
   ]
  },
  {
   "cell_type": "markdown",
   "metadata": {},
   "source": [
    "### DateTime Wrangling "
   ]
  },
  {
   "cell_type": "code",
   "execution_count": 51,
   "metadata": {},
   "outputs": [
    {
     "name": "stdout",
     "output_type": "stream",
     "text": [
      "<class 'pandas.core.frame.DataFrame'>\n",
      "RangeIndex: 569 entries, 0 to 568\n",
      "Data columns (total 20 columns):\n",
      " #   Column            Non-Null Count  Dtype \n",
      "---  ------            --------------  ----- \n",
      " 0   season            569 non-null    int64 \n",
      " 1   season_episode    569 non-null    int64 \n",
      " 2   series_episode    569 non-null    int64 \n",
      " 3   episode_name      569 non-null    object\n",
      " 4   episode_notes     456 non-null    object\n",
      " 5   air_date          569 non-null    object\n",
      " 6   judge1            568 non-null    object\n",
      " 7   judge2            568 non-null    object\n",
      " 8   judge3            568 non-null    object\n",
      " 9   appetizer         569 non-null    object\n",
      " 10  entree            569 non-null    object\n",
      " 11  dessert           568 non-null    object\n",
      " 12  contestant1       568 non-null    object\n",
      " 13  contestant1_info  556 non-null    object\n",
      " 14  contestant2       569 non-null    object\n",
      " 15  contestant2_info  555 non-null    object\n",
      " 16  contestant3       569 non-null    object\n",
      " 17  contestant3_info  556 non-null    object\n",
      " 18  contestant4       569 non-null    object\n",
      " 19  contestant4_info  555 non-null    object\n",
      "dtypes: int64(3), object(17)\n",
      "memory usage: 89.0+ KB\n"
     ]
    }
   ],
   "source": [
    "df = pd.read_csv('data/chopped.csv')\n",
    "df.info()"
   ]
  },
  {
   "cell_type": "code",
   "execution_count": 53,
   "metadata": {
    "nbgrader": {
     "grade": false,
     "grade_id": "cell-88f46c5a55749a6c",
     "locked": false,
     "schema_version": 3,
     "solution": true,
     "task": false
    }
   },
   "outputs": [
    {
     "data": {
      "text/html": [
       "<div>\n",
       "<style scoped>\n",
       "    .dataframe tbody tr th:only-of-type {\n",
       "        vertical-align: middle;\n",
       "    }\n",
       "\n",
       "    .dataframe tbody tr th {\n",
       "        vertical-align: top;\n",
       "    }\n",
       "\n",
       "    .dataframe thead th {\n",
       "        text-align: right;\n",
       "    }\n",
       "</style>\n",
       "<table border=\"1\" class=\"dataframe\">\n",
       "  <thead>\n",
       "    <tr style=\"text-align: right;\">\n",
       "      <th></th>\n",
       "      <th>season</th>\n",
       "      <th>season_episode</th>\n",
       "      <th>series_episode</th>\n",
       "      <th>episode_name</th>\n",
       "      <th>episode_notes</th>\n",
       "      <th>air_date</th>\n",
       "      <th>judge1</th>\n",
       "      <th>judge2</th>\n",
       "      <th>judge3</th>\n",
       "      <th>appetizer</th>\n",
       "      <th>entree</th>\n",
       "      <th>dessert</th>\n",
       "      <th>contestant1</th>\n",
       "      <th>contestant1_info</th>\n",
       "      <th>contestant2</th>\n",
       "      <th>contestant2_info</th>\n",
       "      <th>contestant3</th>\n",
       "      <th>contestant3_info</th>\n",
       "      <th>contestant4</th>\n",
       "      <th>contestant4_info</th>\n",
       "    </tr>\n",
       "  </thead>\n",
       "  <tbody>\n",
       "    <tr>\n",
       "      <th>0</th>\n",
       "      <td>1</td>\n",
       "      <td>1</td>\n",
       "      <td>1</td>\n",
       "      <td>\"Octopus, Duck, Animal Crackers\"</td>\n",
       "      <td>This is the first episode with only three offi...</td>\n",
       "      <td>2009-01-13</td>\n",
       "      <td>Marc Murphy</td>\n",
       "      <td>Alex Guarnaschelli</td>\n",
       "      <td>Aarón Sánchez</td>\n",
       "      <td>baby octopus, bok choy, oyster sauce, smoked ...</td>\n",
       "      <td>duck breast, green onions, ginger, honey</td>\n",
       "      <td>prunes, animal crackers, cream cheese</td>\n",
       "      <td>Summer Kriegshauser</td>\n",
       "      <td>Private Chef and Nutrition Coach  New York  NY</td>\n",
       "      <td>Perry Pollaci</td>\n",
       "      <td>Private Chef and Sous chef  Bar Blanc  New Yo...</td>\n",
       "      <td>Katie Rosenhouse</td>\n",
       "      <td>Pastry Chef  Olana Restaurant  New York  NY</td>\n",
       "      <td>Sandy Davis</td>\n",
       "      <td>Catering Chef  Showstoppers Catering at Union...</td>\n",
       "    </tr>\n",
       "    <tr>\n",
       "      <th>1</th>\n",
       "      <td>1</td>\n",
       "      <td>2</td>\n",
       "      <td>2</td>\n",
       "      <td>\"Tofu, Blueberries, Oysters\"</td>\n",
       "      <td>This is the first of a few episodes with five ...</td>\n",
       "      <td>2009-01-20</td>\n",
       "      <td>Aarón Sánchez</td>\n",
       "      <td>Alex Guarnaschelli</td>\n",
       "      <td>Marc Murphy</td>\n",
       "      <td>firm tofu, tomato paste, prosciutto</td>\n",
       "      <td>daikon, pork loin, Napa cabbage, Thai chiles,...</td>\n",
       "      <td>phyllo dough, gorgonzola cheese, pineapple ri...</td>\n",
       "      <td>Raymond Jackson</td>\n",
       "      <td>Private Caterer and Culinary Instructor  West...</td>\n",
       "      <td>Klaus Kronsteiner</td>\n",
       "      <td>Chef de cuisine  Liberty National Golf Course...</td>\n",
       "      <td>Christopher Jackson</td>\n",
       "      <td>Executive Chef and Owner  Ted and Honey  Broo...</td>\n",
       "      <td>Pippa Calland</td>\n",
       "      <td>Owner and Chef  Chef for Hire LLC  Newville  PA</td>\n",
       "    </tr>\n",
       "    <tr>\n",
       "      <th>2</th>\n",
       "      <td>1</td>\n",
       "      <td>3</td>\n",
       "      <td>3</td>\n",
       "      <td>\"Avocado, Tahini, Bran Flakes\"</td>\n",
       "      <td>NaN</td>\n",
       "      <td>2009-01-27</td>\n",
       "      <td>Aarón Sánchez</td>\n",
       "      <td>Alex Guarnaschelli</td>\n",
       "      <td>Marc Murphy</td>\n",
       "      <td>lump crab meat, dried shiitake mushrooms, pin...</td>\n",
       "      <td>ground beef, cannellini beans, tahini paste, ...</td>\n",
       "      <td>brioche, cantaloupe, pecans, avocados</td>\n",
       "      <td>Margaritte Malfy</td>\n",
       "      <td>Executive Chef and Co-owner  La Palapa  New Y...</td>\n",
       "      <td>Rachelle Rodwell</td>\n",
       "      <td>Chef de cuisine  SoHo Grand Hotel  New York  NY</td>\n",
       "      <td>Chris Burke</td>\n",
       "      <td>Private Chef  New York  NY</td>\n",
       "      <td>Andre Marrero</td>\n",
       "      <td>Chef tournant  L’Atelier de Joël Robuchon  Ne...</td>\n",
       "    </tr>\n",
       "    <tr>\n",
       "      <th>3</th>\n",
       "      <td>1</td>\n",
       "      <td>4</td>\n",
       "      <td>4</td>\n",
       "      <td>\"Banana, Collard Greens, Grits\"</td>\n",
       "      <td>In the appetizer round, Chef Chuboda refused t...</td>\n",
       "      <td>2009-02-03</td>\n",
       "      <td>Scott Conant</td>\n",
       "      <td>Amanda Freitag</td>\n",
       "      <td>Geoffrey Zakarian</td>\n",
       "      <td>ground beef, wonton wrappers, cream of mushro...</td>\n",
       "      <td>scallops, collard greens, anchovies, sour cream</td>\n",
       "      <td>maple syrup, black plums, almond butter, waln...</td>\n",
       "      <td>Sean Chudoba</td>\n",
       "      <td>Executive Chef  Ayza Wine Bar  New York  NY</td>\n",
       "      <td>Kyle Shadix</td>\n",
       "      <td>Chef  Registered Dietician and Culinary Consu...</td>\n",
       "      <td>Luis Gonzales</td>\n",
       "      <td>Executive Chef  Knickerbocker Bar &amp; Grill  Ne...</td>\n",
       "      <td>Einat Admony</td>\n",
       "      <td>Chef and Owner  Taïm  New York  NY</td>\n",
       "    </tr>\n",
       "    <tr>\n",
       "      <th>4</th>\n",
       "      <td>1</td>\n",
       "      <td>5</td>\n",
       "      <td>5</td>\n",
       "      <td>\"Yucca, Watermelon, Tortillas\"</td>\n",
       "      <td>NaN</td>\n",
       "      <td>2009-02-10</td>\n",
       "      <td>Geoffrey Zakarian</td>\n",
       "      <td>Alex Guarnaschelli</td>\n",
       "      <td>Marc Murphy</td>\n",
       "      <td>watermelon, canned sardines, pepper jack chee...</td>\n",
       "      <td>beef shoulder, yucca, raisins, ancho chiles, ...</td>\n",
       "      <td>flour tortillas, prosecco, Canadian bacon, ro...</td>\n",
       "      <td>John Keller</td>\n",
       "      <td>Personal Chef  New York  NY</td>\n",
       "      <td>Andrea Bergquist</td>\n",
       "      <td>Executive Chef  New York  NY</td>\n",
       "      <td>Ed Witt</td>\n",
       "      <td>Executive Chef / Wine Director  Bloomingdale ...</td>\n",
       "      <td>Josh Emett</td>\n",
       "      <td>Chef de cuisine  Gordon Ramsay at The London ...</td>\n",
       "    </tr>\n",
       "  </tbody>\n",
       "</table>\n",
       "</div>"
      ],
      "text/plain": [
       "   season  season_episode  series_episode                      episode_name  \\\n",
       "0       1               1               1  \"Octopus, Duck, Animal Crackers\"   \n",
       "1       1               2               2      \"Tofu, Blueberries, Oysters\"   \n",
       "2       1               3               3    \"Avocado, Tahini, Bran Flakes\"   \n",
       "3       1               4               4   \"Banana, Collard Greens, Grits\"   \n",
       "4       1               5               5    \"Yucca, Watermelon, Tortillas\"   \n",
       "\n",
       "                                       episode_notes   air_date  \\\n",
       "0  This is the first episode with only three offi... 2009-01-13   \n",
       "1  This is the first of a few episodes with five ... 2009-01-20   \n",
       "2                                                NaN 2009-01-27   \n",
       "3  In the appetizer round, Chef Chuboda refused t... 2009-02-03   \n",
       "4                                                NaN 2009-02-10   \n",
       "\n",
       "              judge1              judge2             judge3  \\\n",
       "0        Marc Murphy  Alex Guarnaschelli      Aarón Sánchez   \n",
       "1      Aarón Sánchez  Alex Guarnaschelli        Marc Murphy   \n",
       "2      Aarón Sánchez  Alex Guarnaschelli        Marc Murphy   \n",
       "3       Scott Conant      Amanda Freitag  Geoffrey Zakarian   \n",
       "4  Geoffrey Zakarian  Alex Guarnaschelli        Marc Murphy   \n",
       "\n",
       "                                           appetizer  \\\n",
       "0   baby octopus, bok choy, oyster sauce, smoked ...   \n",
       "1               firm tofu, tomato paste, prosciutto    \n",
       "2   lump crab meat, dried shiitake mushrooms, pin...   \n",
       "3   ground beef, wonton wrappers, cream of mushro...   \n",
       "4   watermelon, canned sardines, pepper jack chee...   \n",
       "\n",
       "                                              entree  \\\n",
       "0          duck breast, green onions, ginger, honey    \n",
       "1   daikon, pork loin, Napa cabbage, Thai chiles,...   \n",
       "2   ground beef, cannellini beans, tahini paste, ...   \n",
       "3   scallops, collard greens, anchovies, sour cream    \n",
       "4   beef shoulder, yucca, raisins, ancho chiles, ...   \n",
       "\n",
       "                                             dessert          contestant1  \\\n",
       "0              prunes, animal crackers, cream cheese  Summer Kriegshauser   \n",
       "1   phyllo dough, gorgonzola cheese, pineapple ri...      Raymond Jackson   \n",
       "2              brioche, cantaloupe, pecans, avocados     Margaritte Malfy   \n",
       "3   maple syrup, black plums, almond butter, waln...         Sean Chudoba   \n",
       "4   flour tortillas, prosecco, Canadian bacon, ro...          John Keller   \n",
       "\n",
       "                                    contestant1_info         contestant2  \\\n",
       "0    Private Chef and Nutrition Coach  New York  NY        Perry Pollaci   \n",
       "1   Private Caterer and Culinary Instructor  West...   Klaus Kronsteiner   \n",
       "2   Executive Chef and Co-owner  La Palapa  New Y...    Rachelle Rodwell   \n",
       "3       Executive Chef  Ayza Wine Bar  New York  NY          Kyle Shadix   \n",
       "4                       Personal Chef  New York  NY     Andrea Bergquist   \n",
       "\n",
       "                                    contestant2_info           contestant3  \\\n",
       "0   Private Chef and Sous chef  Bar Blanc  New Yo...      Katie Rosenhouse   \n",
       "1   Chef de cuisine  Liberty National Golf Course...   Christopher Jackson   \n",
       "2   Chef de cuisine  SoHo Grand Hotel  New York  NY            Chris Burke   \n",
       "3   Chef  Registered Dietician and Culinary Consu...         Luis Gonzales   \n",
       "4                      Executive Chef  New York  NY                Ed Witt   \n",
       "\n",
       "                                    contestant3_info     contestant4  \\\n",
       "0       Pastry Chef  Olana Restaurant  New York  NY      Sandy Davis   \n",
       "1   Executive Chef and Owner  Ted and Honey  Broo...   Pippa Calland   \n",
       "2                        Private Chef  New York  NY    Andre Marrero   \n",
       "3   Executive Chef  Knickerbocker Bar & Grill  Ne...    Einat Admony   \n",
       "4   Executive Chef / Wine Director  Bloomingdale ...      Josh Emett   \n",
       "\n",
       "                                    contestant4_info  \n",
       "0   Catering Chef  Showstoppers Catering at Union...  \n",
       "1   Owner and Chef  Chef for Hire LLC  Newville  PA   \n",
       "2   Chef tournant  L’Atelier de Joël Robuchon  Ne...  \n",
       "3                Chef and Owner  Taïm  New York  NY   \n",
       "4   Chef de cuisine  Gordon Ramsay at The London ...  "
      ]
     },
     "execution_count": 53,
     "metadata": {},
     "output_type": "execute_result"
    }
   ],
   "source": [
    "chopped = pd.read_csv('data/chopped.csv', parse_dates=[\"air_date\"])\n",
    "chopped.head()"
   ]
  },
  {
   "cell_type": "markdown",
   "metadata": {},
   "source": [
    "How can we look at the difference of dates?"
   ]
  },
  {
   "cell_type": "code",
   "execution_count": 47,
   "metadata": {},
   "outputs": [
    {
     "data": {
      "text/plain": [
       "Timedelta('4221 days 00:00:00')"
      ]
     },
     "execution_count": 47,
     "metadata": {},
     "output_type": "execute_result"
    }
   ],
   "source": [
    "chopped[\"air_date\"].max() -chopped[\"air_date\"].min()"
   ]
  },
  {
   "cell_type": "code",
   "execution_count": 54,
   "metadata": {},
   "outputs": [
    {
     "data": {
      "text/plain": [
       "4221"
      ]
     },
     "execution_count": 54,
     "metadata": {},
     "output_type": "execute_result"
    }
   ],
   "source": [
    "(chopped[\"air_date\"].max() - chopped[\"air_date\"].min()).days"
   ]
  },
  {
   "cell_type": "markdown",
   "metadata": {},
   "source": [
    "How can I check the differences between dates in the whole data frame?"
   ]
  },
  {
   "cell_type": "code",
   "execution_count": 55,
   "metadata": {},
   "outputs": [
    {
     "data": {
      "text/plain": [
       "0     2009-01-13\n",
       "1     2009-01-20\n",
       "2     2009-01-27\n",
       "3     2009-02-03\n",
       "4     2009-02-10\n",
       "         ...    \n",
       "564   2020-06-23\n",
       "565   2020-06-30\n",
       "566   2020-07-07\n",
       "567   2020-07-21\n",
       "568   2020-07-28\n",
       "Name: air_date, Length: 569, dtype: datetime64[ns]"
      ]
     },
     "execution_count": 55,
     "metadata": {},
     "output_type": "execute_result"
    }
   ],
   "source": [
    "chopped[\"air_date\"]"
   ]
  },
  {
   "cell_type": "code",
   "execution_count": 10,
   "metadata": {
    "nbgrader": {
     "grade": false,
     "grade_id": "cell-3f9dd8e88f540a44",
     "locked": false,
     "schema_version": 3,
     "solution": true,
     "task": false
    },
    "scrolled": true
   },
   "outputs": [
    {
     "data": {
      "text/plain": [
       "0         NaT\n",
       "1      7 days\n",
       "2      7 days\n",
       "3      7 days\n",
       "4      7 days\n",
       "        ...  \n",
       "564    7 days\n",
       "565    7 days\n",
       "566    7 days\n",
       "567   14 days\n",
       "568    7 days\n",
       "Name: air_date, Length: 569, dtype: timedelta64[ns]"
      ]
     },
     "execution_count": 10,
     "metadata": {},
     "output_type": "execute_result"
    }
   ],
   "source": [
    "chopped[\"air_date\"].diff()\n",
    "# Notice the first NaT"
   ]
  },
  {
   "cell_type": "code",
   "execution_count": 56,
   "metadata": {},
   "outputs": [
    {
     "data": {
      "text/plain": [
       "0     2009-01-13\n",
       "1     2009-01-20\n",
       "2     2009-01-27\n",
       "3     2009-02-03\n",
       "4     2009-02-10\n",
       "         ...    \n",
       "564   2020-06-23\n",
       "565   2020-06-30\n",
       "566   2020-07-07\n",
       "567   2020-07-21\n",
       "568   2020-07-28\n",
       "Name: air_date, Length: 569, dtype: datetime64[ns]"
      ]
     },
     "execution_count": 56,
     "metadata": {},
     "output_type": "execute_result"
    }
   ],
   "source": [
    "chopped[\"air_date\"]"
   ]
  },
  {
   "cell_type": "code",
   "execution_count": 60,
   "metadata": {},
   "outputs": [
    {
     "data": {
      "text/plain": [
       "0       January\n",
       "1       January\n",
       "2       January\n",
       "3      February\n",
       "4      February\n",
       "         ...   \n",
       "564        June\n",
       "565        June\n",
       "566        July\n",
       "567        July\n",
       "568        July\n",
       "Name: air_date, Length: 569, dtype: object"
      ]
     },
     "execution_count": 60,
     "metadata": {},
     "output_type": "execute_result"
    }
   ],
   "source": [
    "chopped['air_date'].dt.month_name()"
   ]
  },
  {
   "cell_type": "markdown",
   "metadata": {},
   "source": [
    "### Cleaning the dirty df"
   ]
  },
  {
   "cell_type": "code",
   "execution_count": null,
   "metadata": {},
   "outputs": [],
   "source": [
    "#clean.copy()"
   ]
  },
  {
   "cell_type": "code",
   "execution_count": 61,
   "metadata": {
    "scrolled": true
   },
   "outputs": [
    {
     "data": {
      "text/html": [
       "<div>\n",
       "<style scoped>\n",
       "    .dataframe tbody tr th:only-of-type {\n",
       "        vertical-align: middle;\n",
       "    }\n",
       "\n",
       "    .dataframe tbody tr th {\n",
       "        vertical-align: top;\n",
       "    }\n",
       "\n",
       "    .dataframe thead th {\n",
       "        text-align: right;\n",
       "    }\n",
       "</style>\n",
       "<table border=\"1\" class=\"dataframe\">\n",
       "  <thead>\n",
       "    <tr style=\"text-align: right;\">\n",
       "      <th></th>\n",
       "      <th>year</th>\n",
       "      <th>pop</th>\n",
       "      <th>lifeExp</th>\n",
       "      <th>gdpPercap</th>\n",
       "      <th>continent</th>\n",
       "      <th>country</th>\n",
       "    </tr>\n",
       "  </thead>\n",
       "  <tbody>\n",
       "    <tr>\n",
       "      <th>0</th>\n",
       "      <td>1952</td>\n",
       "      <td>8425333.0</td>\n",
       "      <td>28.801</td>\n",
       "      <td>779.445314</td>\n",
       "      <td>Asia</td>\n",
       "      <td>Afghanistan</td>\n",
       "    </tr>\n",
       "    <tr>\n",
       "      <th>1</th>\n",
       "      <td>1957</td>\n",
       "      <td>9240934.0</td>\n",
       "      <td>30.332</td>\n",
       "      <td>820.853030</td>\n",
       "      <td>Asia</td>\n",
       "      <td>Afghanistan</td>\n",
       "    </tr>\n",
       "  </tbody>\n",
       "</table>\n",
       "</div>"
      ],
      "text/plain": [
       "   year        pop  lifeExp   gdpPercap continent      country\n",
       "0  1952  8425333.0   28.801  779.445314      Asia  Afghanistan\n",
       "1  1957  9240934.0   30.332  820.853030      Asia  Afghanistan"
      ]
     },
     "execution_count": 61,
     "metadata": {},
     "output_type": "execute_result"
    }
   ],
   "source": [
    "dirty = pd.read_csv('data/dirty_gapminder.csv')\n",
    "dirty.head(2)"
   ]
  },
  {
   "cell_type": "code",
   "execution_count": 62,
   "metadata": {},
   "outputs": [
    {
     "data": {
      "text/html": [
       "<div>\n",
       "<style scoped>\n",
       "    .dataframe tbody tr th:only-of-type {\n",
       "        vertical-align: middle;\n",
       "    }\n",
       "\n",
       "    .dataframe tbody tr th {\n",
       "        vertical-align: top;\n",
       "    }\n",
       "\n",
       "    .dataframe thead th {\n",
       "        text-align: right;\n",
       "    }\n",
       "</style>\n",
       "<table border=\"1\" class=\"dataframe\">\n",
       "  <thead>\n",
       "    <tr style=\"text-align: right;\">\n",
       "      <th></th>\n",
       "      <th>country</th>\n",
       "      <th>year</th>\n",
       "      <th>pop</th>\n",
       "      <th>continent</th>\n",
       "      <th>lifeExp</th>\n",
       "      <th>gdpPercap</th>\n",
       "    </tr>\n",
       "  </thead>\n",
       "  <tbody>\n",
       "    <tr>\n",
       "      <th>0</th>\n",
       "      <td>Afghanistan</td>\n",
       "      <td>1952</td>\n",
       "      <td>8425333.0</td>\n",
       "      <td>Asia</td>\n",
       "      <td>28.801</td>\n",
       "      <td>779.445314</td>\n",
       "    </tr>\n",
       "    <tr>\n",
       "      <th>1</th>\n",
       "      <td>Afghanistan</td>\n",
       "      <td>1957</td>\n",
       "      <td>9240934.0</td>\n",
       "      <td>Asia</td>\n",
       "      <td>30.332</td>\n",
       "      <td>820.853030</td>\n",
       "    </tr>\n",
       "  </tbody>\n",
       "</table>\n",
       "</div>"
      ],
      "text/plain": [
       "       country  year        pop continent  lifeExp   gdpPercap\n",
       "0  Afghanistan  1952  8425333.0      Asia   28.801  779.445314\n",
       "1  Afghanistan  1957  9240934.0      Asia   30.332  820.853030"
      ]
     },
     "execution_count": 62,
     "metadata": {},
     "output_type": "execute_result"
    }
   ],
   "source": [
    "clean = pd.read_csv('data/clean_gapminder.csv')\n",
    "clean.head(2)"
   ]
  },
  {
   "cell_type": "markdown",
   "metadata": {},
   "source": [
    "Motivation: Make dirty look the same way as clean"
   ]
  },
  {
   "cell_type": "code",
   "execution_count": 65,
   "metadata": {},
   "outputs": [
    {
     "data": {
      "text/plain": [
       "0       False\n",
       "1       False\n",
       "2       False\n",
       "3       False\n",
       "4       False\n",
       "        ...  \n",
       "1699    False\n",
       "1700    False\n",
       "1701    False\n",
       "1702    False\n",
       "1703    False\n",
       "Length: 1704, dtype: bool"
      ]
     },
     "execution_count": 65,
     "metadata": {},
     "output_type": "execute_result"
    }
   ],
   "source": [
    "(~clean.eq(dirty)).any(axis=1)"
   ]
  },
  {
   "cell_type": "code",
   "execution_count": 67,
   "metadata": {},
   "outputs": [
    {
     "data": {
      "text/html": [
       "<div>\n",
       "<style scoped>\n",
       "    .dataframe tbody tr th:only-of-type {\n",
       "        vertical-align: middle;\n",
       "    }\n",
       "\n",
       "    .dataframe tbody tr th {\n",
       "        vertical-align: top;\n",
       "    }\n",
       "\n",
       "    .dataframe thead th {\n",
       "        text-align: right;\n",
       "    }\n",
       "</style>\n",
       "<table border=\"1\" class=\"dataframe\">\n",
       "  <thead>\n",
       "    <tr style=\"text-align: right;\">\n",
       "      <th></th>\n",
       "      <th>year</th>\n",
       "      <th>pop</th>\n",
       "      <th>lifeExp</th>\n",
       "      <th>gdpPercap</th>\n",
       "      <th>continent</th>\n",
       "      <th>country</th>\n",
       "    </tr>\n",
       "  </thead>\n",
       "  <tbody>\n",
       "    <tr>\n",
       "      <th>240</th>\n",
       "      <td>1952</td>\n",
       "      <td>14785584.0</td>\n",
       "      <td>68.75</td>\n",
       "      <td>11367.16112</td>\n",
       "      <td>NaN</td>\n",
       "      <td>Canada</td>\n",
       "    </tr>\n",
       "  </tbody>\n",
       "</table>\n",
       "</div>"
      ],
      "text/plain": [
       "     year         pop  lifeExp    gdpPercap continent country\n",
       "240  1952  14785584.0    68.75  11367.16112       NaN  Canada"
      ]
     },
     "execution_count": 67,
     "metadata": {},
     "output_type": "execute_result"
    }
   ],
   "source": [
    "dirty[dirty['country']=='Canada'].head(1)\n",
    "        "
   ]
  },
  {
   "cell_type": "code",
   "execution_count": null,
   "metadata": {},
   "outputs": [],
   "source": []
  },
  {
   "cell_type": "code",
   "execution_count": null,
   "metadata": {},
   "outputs": [],
   "source": []
  },
  {
   "cell_type": "code",
   "execution_count": 26,
   "metadata": {},
   "outputs": [
    {
     "data": {
      "text/plain": [
       "(28, 6)"
      ]
     },
     "execution_count": 26,
     "metadata": {},
     "output_type": "execute_result"
    }
   ],
   "source": [
    "dirty[(~clean.eq(dirty)).any(axis=1)].shape"
   ]
  },
  {
   "cell_type": "code",
   "execution_count": 70,
   "metadata": {},
   "outputs": [
    {
     "data": {
      "text/html": [
       "<div>\n",
       "<style scoped>\n",
       "    .dataframe tbody tr th:only-of-type {\n",
       "        vertical-align: middle;\n",
       "    }\n",
       "\n",
       "    .dataframe tbody tr th {\n",
       "        vertical-align: top;\n",
       "    }\n",
       "\n",
       "    .dataframe thead th {\n",
       "        text-align: right;\n",
       "    }\n",
       "</style>\n",
       "<table border=\"1\" class=\"dataframe\">\n",
       "  <thead>\n",
       "    <tr style=\"text-align: right;\">\n",
       "      <th></th>\n",
       "      <th>year</th>\n",
       "      <th>pop</th>\n",
       "      <th>lifeExp</th>\n",
       "      <th>gdpPercap</th>\n",
       "      <th>continent</th>\n",
       "      <th>country</th>\n",
       "    </tr>\n",
       "  </thead>\n",
       "  <tbody>\n",
       "    <tr>\n",
       "      <th>240</th>\n",
       "      <td>1952</td>\n",
       "      <td>14785584.0</td>\n",
       "      <td>68.75</td>\n",
       "      <td>11367.16112</td>\n",
       "      <td>NaN</td>\n",
       "      <td>Canada</td>\n",
       "    </tr>\n",
       "  </tbody>\n",
       "</table>\n",
       "</div>"
      ],
      "text/plain": [
       "     year         pop  lifeExp    gdpPercap continent country\n",
       "240  1952  14785584.0    68.75  11367.16112       NaN  Canada"
      ]
     },
     "execution_count": 70,
     "metadata": {},
     "output_type": "execute_result"
    }
   ],
   "source": [
    "# This shows what you have\n",
    "dirty[(~clean.eq(dirty)).any(axis=1)].head(1)"
   ]
  },
  {
   "cell_type": "code",
   "execution_count": 71,
   "metadata": {},
   "outputs": [
    {
     "data": {
      "text/html": [
       "<div>\n",
       "<style scoped>\n",
       "    .dataframe tbody tr th:only-of-type {\n",
       "        vertical-align: middle;\n",
       "    }\n",
       "\n",
       "    .dataframe tbody tr th {\n",
       "        vertical-align: top;\n",
       "    }\n",
       "\n",
       "    .dataframe thead th {\n",
       "        text-align: right;\n",
       "    }\n",
       "</style>\n",
       "<table border=\"1\" class=\"dataframe\">\n",
       "  <thead>\n",
       "    <tr style=\"text-align: right;\">\n",
       "      <th></th>\n",
       "      <th>country</th>\n",
       "      <th>year</th>\n",
       "      <th>pop</th>\n",
       "      <th>continent</th>\n",
       "      <th>lifeExp</th>\n",
       "      <th>gdpPercap</th>\n",
       "    </tr>\n",
       "  </thead>\n",
       "  <tbody>\n",
       "    <tr>\n",
       "      <th>240</th>\n",
       "      <td>Canada</td>\n",
       "      <td>1952</td>\n",
       "      <td>14785584.0</td>\n",
       "      <td>Americas</td>\n",
       "      <td>68.75</td>\n",
       "      <td>11367.16112</td>\n",
       "    </tr>\n",
       "  </tbody>\n",
       "</table>\n",
       "</div>"
      ],
      "text/plain": [
       "    country  year         pop continent  lifeExp    gdpPercap\n",
       "240  Canada  1952  14785584.0  Americas    68.75  11367.16112"
      ]
     },
     "execution_count": 71,
     "metadata": {},
     "output_type": "execute_result"
    }
   ],
   "source": [
    "# This is the goal\n",
    "clean[(~clean.eq(dirty)).any(axis=1)].head(1)"
   ]
  },
  {
   "cell_type": "code",
   "execution_count": 72,
   "metadata": {},
   "outputs": [
    {
     "data": {
      "text/html": [
       "<div>\n",
       "<style scoped>\n",
       "    .dataframe tbody tr th:only-of-type {\n",
       "        vertical-align: middle;\n",
       "    }\n",
       "\n",
       "    .dataframe tbody tr th {\n",
       "        vertical-align: top;\n",
       "    }\n",
       "\n",
       "    .dataframe thead th {\n",
       "        text-align: right;\n",
       "    }\n",
       "</style>\n",
       "<table border=\"1\" class=\"dataframe\">\n",
       "  <thead>\n",
       "    <tr style=\"text-align: right;\">\n",
       "      <th></th>\n",
       "      <th>year</th>\n",
       "      <th>pop</th>\n",
       "      <th>lifeExp</th>\n",
       "      <th>gdpPercap</th>\n",
       "      <th>continent</th>\n",
       "      <th>country</th>\n",
       "    </tr>\n",
       "  </thead>\n",
       "  <tbody>\n",
       "    <tr>\n",
       "      <th>240</th>\n",
       "      <td>1952</td>\n",
       "      <td>14785584.0</td>\n",
       "      <td>68.750</td>\n",
       "      <td>11367.16112</td>\n",
       "      <td>NaN</td>\n",
       "      <td>Canada</td>\n",
       "    </tr>\n",
       "    <tr>\n",
       "      <th>241</th>\n",
       "      <td>1957</td>\n",
       "      <td>17010154.0</td>\n",
       "      <td>69.960</td>\n",
       "      <td>12489.95006</td>\n",
       "      <td>NaN</td>\n",
       "      <td>Canada</td>\n",
       "    </tr>\n",
       "    <tr>\n",
       "      <th>242</th>\n",
       "      <td>1962</td>\n",
       "      <td>18985849.0</td>\n",
       "      <td>71.300</td>\n",
       "      <td>13462.48555</td>\n",
       "      <td>NaN</td>\n",
       "      <td>Canada</td>\n",
       "    </tr>\n",
       "    <tr>\n",
       "      <th>243</th>\n",
       "      <td>1967</td>\n",
       "      <td>20819767.0</td>\n",
       "      <td>72.130</td>\n",
       "      <td>16076.58803</td>\n",
       "      <td>NaN</td>\n",
       "      <td>Canada</td>\n",
       "    </tr>\n",
       "    <tr>\n",
       "      <th>244</th>\n",
       "      <td>1972</td>\n",
       "      <td>22284500.0</td>\n",
       "      <td>72.880</td>\n",
       "      <td>18970.57086</td>\n",
       "      <td>NaN</td>\n",
       "      <td>Canada</td>\n",
       "    </tr>\n",
       "    <tr>\n",
       "      <th>245</th>\n",
       "      <td>1977</td>\n",
       "      <td>23796400.0</td>\n",
       "      <td>74.210</td>\n",
       "      <td>22090.88306</td>\n",
       "      <td>NaN</td>\n",
       "      <td>Canada</td>\n",
       "    </tr>\n",
       "    <tr>\n",
       "      <th>246</th>\n",
       "      <td>1982</td>\n",
       "      <td>25201900.0</td>\n",
       "      <td>75.760</td>\n",
       "      <td>22898.79214</td>\n",
       "      <td>NaN</td>\n",
       "      <td>Canada</td>\n",
       "    </tr>\n",
       "    <tr>\n",
       "      <th>247</th>\n",
       "      <td>1987</td>\n",
       "      <td>26549700.0</td>\n",
       "      <td>76.860</td>\n",
       "      <td>26626.51503</td>\n",
       "      <td>NaN</td>\n",
       "      <td>Canada</td>\n",
       "    </tr>\n",
       "    <tr>\n",
       "      <th>248</th>\n",
       "      <td>1992</td>\n",
       "      <td>28523502.0</td>\n",
       "      <td>77.950</td>\n",
       "      <td>26342.88426</td>\n",
       "      <td>NaN</td>\n",
       "      <td>Canada</td>\n",
       "    </tr>\n",
       "    <tr>\n",
       "      <th>249</th>\n",
       "      <td>1997</td>\n",
       "      <td>30305843.0</td>\n",
       "      <td>78.610</td>\n",
       "      <td>28954.92589</td>\n",
       "      <td>NaN</td>\n",
       "      <td>Canada</td>\n",
       "    </tr>\n",
       "    <tr>\n",
       "      <th>250</th>\n",
       "      <td>2002</td>\n",
       "      <td>31902268.0</td>\n",
       "      <td>79.770</td>\n",
       "      <td>33328.96507</td>\n",
       "      <td>NaN</td>\n",
       "      <td>Canada</td>\n",
       "    </tr>\n",
       "    <tr>\n",
       "      <th>251</th>\n",
       "      <td>2007</td>\n",
       "      <td>33390141.0</td>\n",
       "      <td>80.653</td>\n",
       "      <td>36319.23501</td>\n",
       "      <td>NaN</td>\n",
       "      <td>Canada</td>\n",
       "    </tr>\n",
       "  </tbody>\n",
       "</table>\n",
       "</div>"
      ],
      "text/plain": [
       "     year         pop  lifeExp    gdpPercap continent country\n",
       "240  1952  14785584.0   68.750  11367.16112       NaN  Canada\n",
       "241  1957  17010154.0   69.960  12489.95006       NaN  Canada\n",
       "242  1962  18985849.0   71.300  13462.48555       NaN  Canada\n",
       "243  1967  20819767.0   72.130  16076.58803       NaN  Canada\n",
       "244  1972  22284500.0   72.880  18970.57086       NaN  Canada\n",
       "245  1977  23796400.0   74.210  22090.88306       NaN  Canada\n",
       "246  1982  25201900.0   75.760  22898.79214       NaN  Canada\n",
       "247  1987  26549700.0   76.860  26626.51503       NaN  Canada\n",
       "248  1992  28523502.0   77.950  26342.88426       NaN  Canada\n",
       "249  1997  30305843.0   78.610  28954.92589       NaN  Canada\n",
       "250  2002  31902268.0   79.770  33328.96507       NaN  Canada\n",
       "251  2007  33390141.0   80.653  36319.23501       NaN  Canada"
      ]
     },
     "execution_count": 72,
     "metadata": {},
     "output_type": "execute_result"
    }
   ],
   "source": [
    "dirty[dirty.isnull().any(axis=1)]"
   ]
  },
  {
   "cell_type": "code",
   "execution_count": 80,
   "metadata": {
    "nbgrader": {
     "grade": false,
     "grade_id": "cell-91958e9802fb7ae9",
     "locked": false,
     "schema_version": 3,
     "solution": true,
     "task": false
    },
    "scrolled": true
   },
   "outputs": [],
   "source": [
    "def cleaned_gapminder(dirty_df):\n",
    "    \n",
    "    # Let's fill the na's with `.fillna()`\n",
    "    dirty_df = dirty_df.fillna(value=\"Americas\")\n",
    "    dirty_df.columns = ['country', 'year', 'pop', 'continent', 'lifeExp', 'gdpPercap']\n",
    "\n",
    "    return dirty_df"
   ]
  },
  {
   "cell_type": "code",
   "execution_count": 82,
   "metadata": {},
   "outputs": [],
   "source": [
    "cleaned_data = cleaned_gapminder(dirty)"
   ]
  },
  {
   "cell_type": "code",
   "execution_count": 83,
   "metadata": {
    "nbgrader": {
     "grade": true,
     "grade_id": "cell-4d822c98c340d7d7",
     "locked": true,
     "points": 8,
     "schema_version": 3,
     "solution": false,
     "task": false
    }
   },
   "outputs": [
    {
     "data": {
      "text/html": [
       "<div>\n",
       "<style scoped>\n",
       "    .dataframe tbody tr th:only-of-type {\n",
       "        vertical-align: middle;\n",
       "    }\n",
       "\n",
       "    .dataframe tbody tr th {\n",
       "        vertical-align: top;\n",
       "    }\n",
       "\n",
       "    .dataframe thead th {\n",
       "        text-align: right;\n",
       "    }\n",
       "</style>\n",
       "<table border=\"1\" class=\"dataframe\">\n",
       "  <thead>\n",
       "    <tr style=\"text-align: right;\">\n",
       "      <th></th>\n",
       "      <th>country</th>\n",
       "      <th>year</th>\n",
       "      <th>pop</th>\n",
       "      <th>continent</th>\n",
       "      <th>lifeExp</th>\n",
       "      <th>gdpPercap</th>\n",
       "    </tr>\n",
       "  </thead>\n",
       "  <tbody>\n",
       "    <tr>\n",
       "      <th>0</th>\n",
       "      <td>Afghanistan</td>\n",
       "      <td>1952</td>\n",
       "      <td>8425333.0</td>\n",
       "      <td>Asia</td>\n",
       "      <td>28.801</td>\n",
       "      <td>779.445314</td>\n",
       "    </tr>\n",
       "    <tr>\n",
       "      <th>1</th>\n",
       "      <td>Afghanistan</td>\n",
       "      <td>1957</td>\n",
       "      <td>9240934.0</td>\n",
       "      <td>Asia</td>\n",
       "      <td>30.332</td>\n",
       "      <td>820.853030</td>\n",
       "    </tr>\n",
       "  </tbody>\n",
       "</table>\n",
       "</div>"
      ],
      "text/plain": [
       "       country  year        pop continent  lifeExp   gdpPercap\n",
       "0  Afghanistan  1952  8425333.0      Asia   28.801  779.445314\n",
       "1  Afghanistan  1957  9240934.0      Asia   30.332  820.853030"
      ]
     },
     "execution_count": 83,
     "metadata": {},
     "output_type": "execute_result"
    }
   ],
   "source": [
    "clean[(~cleaned_data.eq(clean)).any(axis=1)].head(2)"
   ]
  },
  {
   "cell_type": "code",
   "execution_count": 79,
   "metadata": {},
   "outputs": [
    {
     "data": {
      "text/plain": [
       "Index(['country', 'year', 'pop', 'continent', 'lifeExp', 'gdpPercap'], dtype='object')"
      ]
     },
     "execution_count": 79,
     "metadata": {},
     "output_type": "execute_result"
    }
   ],
   "source": [
    "clean.columns"
   ]
  },
  {
   "cell_type": "code",
   "execution_count": 84,
   "metadata": {},
   "outputs": [
    {
     "data": {
      "text/html": [
       "<div>\n",
       "<style scoped>\n",
       "    .dataframe tbody tr th:only-of-type {\n",
       "        vertical-align: middle;\n",
       "    }\n",
       "\n",
       "    .dataframe tbody tr th {\n",
       "        vertical-align: top;\n",
       "    }\n",
       "\n",
       "    .dataframe thead th {\n",
       "        text-align: right;\n",
       "    }\n",
       "</style>\n",
       "<table border=\"1\" class=\"dataframe\">\n",
       "  <thead>\n",
       "    <tr style=\"text-align: right;\">\n",
       "      <th></th>\n",
       "      <th>country</th>\n",
       "      <th>year</th>\n",
       "      <th>pop</th>\n",
       "      <th>continent</th>\n",
       "      <th>lifeExp</th>\n",
       "      <th>gdpPercap</th>\n",
       "    </tr>\n",
       "  </thead>\n",
       "  <tbody>\n",
       "    <tr>\n",
       "      <th>0</th>\n",
       "      <td>1952</td>\n",
       "      <td>8425333.0</td>\n",
       "      <td>28.801</td>\n",
       "      <td>779.445314</td>\n",
       "      <td>Asia</td>\n",
       "      <td>Afghanistan</td>\n",
       "    </tr>\n",
       "    <tr>\n",
       "      <th>1</th>\n",
       "      <td>1957</td>\n",
       "      <td>9240934.0</td>\n",
       "      <td>30.332</td>\n",
       "      <td>820.853030</td>\n",
       "      <td>Asia</td>\n",
       "      <td>Afghanistan</td>\n",
       "    </tr>\n",
       "  </tbody>\n",
       "</table>\n",
       "</div>"
      ],
      "text/plain": [
       "   country       year     pop   continent lifeExp    gdpPercap\n",
       "0     1952  8425333.0  28.801  779.445314    Asia  Afghanistan\n",
       "1     1957  9240934.0  30.332  820.853030    Asia  Afghanistan"
      ]
     },
     "execution_count": 84,
     "metadata": {},
     "output_type": "execute_result"
    }
   ],
   "source": [
    "cleaned_data[(~cleaned_data.eq(clean)).any(axis=1)].head(2)"
   ]
  },
  {
   "cell_type": "code",
   "execution_count": null,
   "metadata": {},
   "outputs": [],
   "source": []
  }
 ],
 "metadata": {
  "celltoolbar": "Create Assignment",
  "kernelspec": {
   "display_name": "Python 3 (ipykernel)",
   "language": "python",
   "name": "python3"
  },
  "language_info": {
   "codemirror_mode": {
    "name": "ipython",
    "version": 3
   },
   "file_extension": ".py",
   "mimetype": "text/x-python",
   "name": "python",
   "nbconvert_exporter": "python",
   "pygments_lexer": "ipython3",
   "version": "3.9.12"
  },
  "toc": {
   "base_numbering": 1,
   "nav_menu": {},
   "number_sections": true,
   "sideBar": true,
   "skip_h1_title": true,
   "title_cell": "Table of Contents",
   "title_sidebar": "Contents",
   "toc_cell": true,
   "toc_position": {},
   "toc_section_display": true,
   "toc_window_display": false
  }
 },
 "nbformat": 4,
 "nbformat_minor": 4
}
