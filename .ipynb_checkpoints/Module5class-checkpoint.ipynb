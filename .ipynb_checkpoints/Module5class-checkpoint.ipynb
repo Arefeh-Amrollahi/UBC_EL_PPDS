{
 "cells": [
  {
   "cell_type": "markdown",
   "metadata": {
    "slideshow": {
     "slide_type": "slide"
    }
   },
   "source": [
    "# `for` Loops and Functions\n",
    "\n",
    "## UBC MDS Extended Learning\n",
    "\n",
    "### November 14"
   ]
  },
  {
   "cell_type": "code",
   "execution_count": 1,
   "metadata": {
    "slideshow": {
     "slide_type": "skip"
    }
   },
   "outputs": [],
   "source": [
    "import numpy as np\n",
    "import pandas as pd"
   ]
  },
  {
   "cell_type": "markdown",
   "metadata": {},
   "source": [
    "## `for` loops"
   ]
  },
  {
   "cell_type": "code",
   "execution_count": 2,
   "metadata": {},
   "outputs": [],
   "source": [
    "a_list = [1, 4, 5, 10]\n",
    "another_list = [3,6,11]"
   ]
  },
  {
   "cell_type": "code",
   "execution_count": 3,
   "metadata": {},
   "outputs": [
    {
     "name": "stdout",
     "output_type": "stream",
     "text": [
      "1\n",
      "4\n",
      "5\n",
      "10\n"
     ]
    }
   ],
   "source": [
    "for number in a_list:\n",
    "    print(number)"
   ]
  },
  {
   "cell_type": "code",
   "execution_count": 4,
   "metadata": {},
   "outputs": [
    {
     "name": "stdout",
     "output_type": "stream",
     "text": [
      "1\n",
      "4\n",
      "5\n",
      "10\n"
     ]
    }
   ],
   "source": [
    "for number in a_list:\n",
    "    print(number)"
   ]
  },
  {
   "cell_type": "markdown",
   "metadata": {},
   "source": [
    "The role of the word `number` is to be a placeholder or a temporary variable. We can actually call number again and see that it will have the last value saved."
   ]
  },
  {
   "cell_type": "code",
   "execution_count": 5,
   "metadata": {},
   "outputs": [
    {
     "data": {
      "text/plain": [
       "10"
      ]
     },
     "execution_count": 5,
     "metadata": {},
     "output_type": "execute_result"
    }
   ],
   "source": [
    "number"
   ]
  },
  {
   "cell_type": "markdown",
   "metadata": {},
   "source": [
    "But it doesn't have to be the word `number`; it can be anything you want it to be 😊"
   ]
  },
  {
   "cell_type": "code",
   "execution_count": 6,
   "metadata": {},
   "outputs": [
    {
     "name": "stdout",
     "output_type": "stream",
     "text": [
      "1 3 4\n",
      "1 6 7\n",
      "1 11 12\n",
      "4 3 7\n",
      "4 6 10\n",
      "4 11 15\n",
      "5 3 8\n",
      "5 6 11\n",
      "5 11 16\n",
      "10 3 13\n",
      "10 6 16\n",
      "10 11 21\n"
     ]
    }
   ],
   "source": [
    "for number_a in a_list:\n",
    "    for number_b in another_list:\n",
    "        print(number_a, number_b, number_a + number_b)"
   ]
  },
  {
   "cell_type": "markdown",
   "metadata": {},
   "source": [
    "Just remember: make it something meaningful.\n",
    "\n",
    "All variables should be \"self explanatory\" when writing real code."
   ]
  },
  {
   "cell_type": "markdown",
   "metadata": {},
   "source": [
    "## `for` loops in a `dictionary`"
   ]
  },
  {
   "cell_type": "markdown",
   "metadata": {},
   "source": [
    "Let's remember the structure of a dictionary:\n",
    "\n",
    "```python\n",
    "\n",
    "my_pantry = {'pasta': 3, 'garlic': 4,'sauce': 2,\n",
    "             'basil': 2, 'salt': 3, 'olive oil': 3,\n",
    "             'rice': 3, 'bread': 3}\n",
    "```\n",
    "\n",
    "Who are the `keys` and `values`?"
   ]
  },
  {
   "cell_type": "code",
   "execution_count": 7,
   "metadata": {},
   "outputs": [],
   "source": [
    "my_pantry = {'pasta': 3, 'garlic': 4,'sauce': 2,\n",
    "             'basil': 2, 'salt': 3, 'olive oil': 3,\n",
    "             'rice': 3, 'bread': 3}"
   ]
  },
  {
   "cell_type": "code",
   "execution_count": 8,
   "metadata": {},
   "outputs": [
    {
     "data": {
      "text/plain": [
       "dict_keys(['pasta', 'garlic', 'sauce', 'basil', 'salt', 'olive oil', 'rice', 'bread'])"
      ]
     },
     "execution_count": 8,
     "metadata": {},
     "output_type": "execute_result"
    }
   ],
   "source": [
    "my_pantry.keys()"
   ]
  },
  {
   "cell_type": "code",
   "execution_count": 9,
   "metadata": {},
   "outputs": [
    {
     "data": {
      "text/plain": [
       "dict_values([3, 4, 2, 2, 3, 3, 3, 3])"
      ]
     },
     "execution_count": 9,
     "metadata": {},
     "output_type": "execute_result"
    }
   ],
   "source": [
    "my_pantry.values()"
   ]
  },
  {
   "cell_type": "code",
   "execution_count": 10,
   "metadata": {},
   "outputs": [
    {
     "data": {
      "text/plain": [
       "dict_items([('pasta', 3), ('garlic', 4), ('sauce', 2), ('basil', 2), ('salt', 3), ('olive oil', 3), ('rice', 3), ('bread', 3)])"
      ]
     },
     "execution_count": 10,
     "metadata": {},
     "output_type": "execute_result"
    }
   ],
   "source": [
    "my_pantry.items()"
   ]
  },
  {
   "cell_type": "markdown",
   "metadata": {},
   "source": [
    "How can we iterate over them?"
   ]
  },
  {
   "cell_type": "code",
   "execution_count": 11,
   "metadata": {},
   "outputs": [
    {
     "name": "stdout",
     "output_type": "stream",
     "text": [
      "pasta\n",
      "garlic\n",
      "sauce\n",
      "basil\n",
      "salt\n",
      "olive oil\n",
      "rice\n",
      "bread\n"
     ]
    }
   ],
   "source": [
    "for key in my_pantry:\n",
    "    print(key)"
   ]
  },
  {
   "cell_type": "code",
   "execution_count": 12,
   "metadata": {},
   "outputs": [
    {
     "name": "stdout",
     "output_type": "stream",
     "text": [
      "pasta\n",
      "garlic\n",
      "sauce\n",
      "basil\n",
      "salt\n",
      "olive oil\n",
      "rice\n",
      "bread\n"
     ]
    }
   ],
   "source": [
    "for key in my_pantry.keys():\n",
    "    print(key)"
   ]
  },
  {
   "cell_type": "code",
   "execution_count": 13,
   "metadata": {},
   "outputs": [
    {
     "name": "stdout",
     "output_type": "stream",
     "text": [
      "3\n",
      "4\n",
      "2\n",
      "2\n",
      "3\n",
      "3\n",
      "3\n",
      "3\n"
     ]
    }
   ],
   "source": [
    "for value in my_pantry.values():\n",
    "    print(value)"
   ]
  },
  {
   "cell_type": "code",
   "execution_count": 14,
   "metadata": {},
   "outputs": [
    {
     "name": "stdout",
     "output_type": "stream",
     "text": [
      "3 pasta\n",
      "4 garlic\n",
      "2 sauce\n",
      "2 basil\n",
      "3 salt\n",
      "3 olive oil\n",
      "3 rice\n",
      "3 bread\n"
     ]
    }
   ],
   "source": [
    "for key in my_pantry:\n",
    "    print(my_pantry[key], key)"
   ]
  },
  {
   "cell_type": "code",
   "execution_count": 15,
   "metadata": {},
   "outputs": [
    {
     "data": {
      "text/plain": [
       "'bread'"
      ]
     },
     "execution_count": 15,
     "metadata": {},
     "output_type": "execute_result"
    }
   ],
   "source": [
    "key"
   ]
  },
  {
   "cell_type": "code",
   "execution_count": 16,
   "metadata": {},
   "outputs": [
    {
     "name": "stdout",
     "output_type": "stream",
     "text": [
      "pasta 3\n",
      "garlic 4\n",
      "sauce 2\n",
      "basil 2\n",
      "salt 3\n",
      "olive oil 3\n",
      "rice 3\n",
      "bread 3\n"
     ]
    }
   ],
   "source": [
    "for key, value in my_pantry.items():\n",
    "    print(key, value)"
   ]
  },
  {
   "cell_type": "markdown",
   "metadata": {},
   "source": [
    "Which is more convenient if you are comparing two dictionaries that have the same keys?"
   ]
  },
  {
   "cell_type": "code",
   "execution_count": 17,
   "metadata": {},
   "outputs": [],
   "source": [
    "my_list = {'pasta': 2, 'garlic': 1, 'sauce':0,\n",
    "             'basil': 1, 'salt': 5, 'olive oil': 4,\n",
    "             'rice': 1, 'bread': 5}"
   ]
  },
  {
   "cell_type": "markdown",
   "metadata": {},
   "source": [
    "- We want to compare the values.\n",
    "- However, we want to compare the values BASED on each item.\n",
    "- I want to compare `pasta` against `pasta` and `olive oil` against `olive oil`."
   ]
  },
  {
   "cell_type": "code",
   "execution_count": 18,
   "metadata": {},
   "outputs": [
    {
     "data": {
      "text/plain": [
       "dict_items([('pasta', 3), ('garlic', 4), ('sauce', 2), ('basil', 2), ('salt', 3), ('olive oil', 3), ('rice', 3), ('bread', 3)])"
      ]
     },
     "execution_count": 18,
     "metadata": {},
     "output_type": "execute_result"
    }
   ],
   "source": [
    "my_pantry.items()"
   ]
  },
  {
   "cell_type": "code",
   "execution_count": 19,
   "metadata": {},
   "outputs": [
    {
     "data": {
      "text/plain": [
       "dict_items([('pasta', 2), ('garlic', 1), ('sauce', 0), ('basil', 1), ('salt', 5), ('olive oil', 4), ('rice', 1), ('bread', 5)])"
      ]
     },
     "execution_count": 19,
     "metadata": {},
     "output_type": "execute_result"
    }
   ],
   "source": [
    "my_list.items()"
   ]
  },
  {
   "cell_type": "code",
   "execution_count": 20,
   "metadata": {},
   "outputs": [
    {
     "name": "stdout",
     "output_type": "stream",
     "text": [
      "1\n",
      "3\n",
      "2\n",
      "1\n",
      "-2\n",
      "-1\n",
      "2\n",
      "-2\n"
     ]
    }
   ],
   "source": [
    "for ingredient in my_pantry:\n",
    "    print(my_pantry[ingredient] - my_list[ingredient])"
   ]
  },
  {
   "cell_type": "markdown",
   "metadata": {},
   "source": [
    "> What happens if I remove 'sauce' from my_list, since it is a 0"
   ]
  },
  {
   "cell_type": "code",
   "execution_count": 21,
   "metadata": {},
   "outputs": [],
   "source": [
    "my_list = {'pasta': 2, 'garlic': 1,\n",
    "             'basil': 1, 'salt': 5, 'olive oil': 4,\n",
    "             'rice': 1, 'bread': 5}"
   ]
  },
  {
   "cell_type": "code",
   "execution_count": 22,
   "metadata": {},
   "outputs": [
    {
     "data": {
      "text/plain": [
       "dict_items([('pasta', 3), ('garlic', 4), ('sauce', 2), ('basil', 2), ('salt', 3), ('olive oil', 3), ('rice', 3), ('bread', 3)])"
      ]
     },
     "execution_count": 22,
     "metadata": {},
     "output_type": "execute_result"
    }
   ],
   "source": [
    "my_pantry.items()"
   ]
  },
  {
   "cell_type": "code",
   "execution_count": 23,
   "metadata": {},
   "outputs": [
    {
     "data": {
      "text/plain": [
       "dict_items([('pasta', 2), ('garlic', 1), ('basil', 1), ('salt', 5), ('olive oil', 4), ('rice', 1), ('bread', 5)])"
      ]
     },
     "execution_count": 23,
     "metadata": {},
     "output_type": "execute_result"
    }
   ],
   "source": [
    "my_list.items()"
   ]
  },
  {
   "cell_type": "code",
   "execution_count": 24,
   "metadata": {},
   "outputs": [
    {
     "name": "stdout",
     "output_type": "stream",
     "text": [
      "1\n",
      "3\n"
     ]
    },
    {
     "ename": "KeyError",
     "evalue": "'sauce'",
     "output_type": "error",
     "traceback": [
      "\u001b[0;31m---------------------------------------------------------------------------\u001b[0m",
      "\u001b[0;31mKeyError\u001b[0m                                  Traceback (most recent call last)",
      "Input \u001b[0;32mIn [24]\u001b[0m, in \u001b[0;36m<cell line: 1>\u001b[0;34m()\u001b[0m\n\u001b[1;32m      1\u001b[0m \u001b[38;5;28;01mfor\u001b[39;00m ingredient \u001b[38;5;129;01min\u001b[39;00m my_pantry:\n\u001b[0;32m----> 2\u001b[0m     \u001b[38;5;28mprint\u001b[39m(my_pantry[ingredient] \u001b[38;5;241m-\u001b[39m \u001b[43mmy_list\u001b[49m\u001b[43m[\u001b[49m\u001b[43mingredient\u001b[49m\u001b[43m]\u001b[49m)\n",
      "\u001b[0;31mKeyError\u001b[0m: 'sauce'"
     ]
    }
   ],
   "source": [
    "for ingredient in my_pantry:\n",
    "    print(my_pantry[ingredient] - my_list[ingredient])"
   ]
  },
  {
   "cell_type": "markdown",
   "metadata": {},
   "source": [
    "## `if` statements"
   ]
  },
  {
   "cell_type": "markdown",
   "metadata": {},
   "source": [
    "`if` statements help us check conditions. \n",
    "Here we can state, what happens if we don't have the key in our second dictionary."
   ]
  },
  {
   "cell_type": "code",
   "execution_count": 25,
   "metadata": {},
   "outputs": [
    {
     "data": {
      "text/plain": [
       "{'pasta': 3,\n",
       " 'garlic': 4,\n",
       " 'sauce': 2,\n",
       " 'basil': 2,\n",
       " 'salt': 3,\n",
       " 'olive oil': 3,\n",
       " 'rice': 3,\n",
       " 'bread': 3}"
      ]
     },
     "execution_count": 25,
     "metadata": {},
     "output_type": "execute_result"
    }
   ],
   "source": [
    "my_pantry"
   ]
  },
  {
   "cell_type": "code",
   "execution_count": 26,
   "metadata": {},
   "outputs": [
    {
     "data": {
      "text/plain": [
       "{'pasta': 2,\n",
       " 'garlic': 1,\n",
       " 'basil': 1,\n",
       " 'salt': 5,\n",
       " 'olive oil': 4,\n",
       " 'rice': 1,\n",
       " 'bread': 5}"
      ]
     },
     "execution_count": 26,
     "metadata": {},
     "output_type": "execute_result"
    }
   ],
   "source": [
    "my_list"
   ]
  },
  {
   "cell_type": "code",
   "execution_count": 27,
   "metadata": {},
   "outputs": [
    {
     "name": "stdout",
     "output_type": "stream",
     "text": [
      "1\n",
      "3\n",
      "No ingredient\n",
      "1\n",
      "-2\n",
      "-1\n",
      "2\n",
      "-2\n"
     ]
    }
   ],
   "source": [
    "for ingredient in my_pantry:\n",
    "    if ingredient in my_list:\n",
    "        print(my_pantry[ingredient] - my_list[ingredient])\n",
    "    else:\n",
    "        print(\"No ingredient\")"
   ]
  },
  {
   "cell_type": "markdown",
   "metadata": {},
   "source": [
    "### Creating a new dictionary where we can save the values:"
   ]
  },
  {
   "cell_type": "code",
   "execution_count": 28,
   "metadata": {},
   "outputs": [
    {
     "name": "stdout",
     "output_type": "stream",
     "text": [
      "No ingredient\n"
     ]
    }
   ],
   "source": [
    "shopping_list = dict()\n",
    "\n",
    "for ingredient in my_pantry:\n",
    "    if ingredient in my_list:\n",
    "        shopping_list[ingredient] = my_pantry[ingredient] - my_list[ingredient]\n",
    "    else:\n",
    "        print(\"No ingredient\")"
   ]
  },
  {
   "cell_type": "code",
   "execution_count": 29,
   "metadata": {},
   "outputs": [
    {
     "data": {
      "text/plain": [
       "{'pasta': 1,\n",
       " 'garlic': 3,\n",
       " 'basil': 1,\n",
       " 'salt': -2,\n",
       " 'olive oil': -1,\n",
       " 'rice': 2,\n",
       " 'bread': -2}"
      ]
     },
     "execution_count": 29,
     "metadata": {},
     "output_type": "execute_result"
    }
   ],
   "source": [
    "shopping_list"
   ]
  },
  {
   "cell_type": "markdown",
   "metadata": {},
   "source": [
    "### Exercise:\n",
    "\n",
    "In your assignment, you want to write a dictionary like the one we did before. The trick is, you don't want negative numbers. If there is enough in your pantry, you shouldn't have to add it to the shopping list.\n",
    "\n",
    "How would you modify the if statements to capture a dictionary only with the positive values.\n",
    "\n",
    "Think about it and if you have doubts let's discuss next session"
   ]
  },
  {
   "cell_type": "markdown",
   "metadata": {
    "slideshow": {
     "slide_type": "slide"
    },
    "tags": []
   },
   "source": [
    "## Functions"
   ]
  },
  {
   "cell_type": "markdown",
   "metadata": {
    "slideshow": {
     "slide_type": "fragment"
    }
   },
   "source": [
    "A function is a relationship or mapping between one or more inputs and a set of outputs.\n",
    "\n",
    "In mathematics, we represent a function typically like this:\n",
    "\n",
    "> $z = f(x,y)$\n",
    "\n",
    "> $ y = mx + b$\n",
    "\n",
    "* $z$ is the output.\n",
    "* $x$ and $y$ are the inputs.\n",
    "* $f()$ represents \"what happens\" in the function."
   ]
  },
  {
   "cell_type": "markdown",
   "metadata": {
    "slideshow": {
     "slide_type": "slide"
    }
   },
   "source": [
    "For example:\n",
    "> $z = log(x)$\n",
    "\n",
    "When $x = 3$, then:  \n",
    "> $z = log(3)$"
   ]
  },
  {
   "cell_type": "code",
   "execution_count": 30,
   "metadata": {
    "slideshow": {
     "slide_type": "fragment"
    }
   },
   "outputs": [],
   "source": [
    "# z = log(3)\n",
    "\n",
    "def log_function(number, word='hello', word_2='world'):\n",
    "    z = np.log(number)\n",
    "    print(word, word_2)\n",
    "    print(f\"The log of {number} is {z}.\")"
   ]
  },
  {
   "cell_type": "code",
   "execution_count": 31,
   "metadata": {
    "slideshow": {
     "slide_type": "fragment"
    }
   },
   "outputs": [
    {
     "name": "stdout",
     "output_type": "stream",
     "text": [
      "hello people\n",
      "The log of 3 is 1.0986122886681098.\n"
     ]
    }
   ],
   "source": [
    "log_function(3, word_2 = \"people\")"
   ]
  },
  {
   "cell_type": "code",
   "execution_count": 32,
   "metadata": {},
   "outputs": [
    {
     "data": {
      "text/plain": [
       "10"
      ]
     },
     "execution_count": 32,
     "metadata": {},
     "output_type": "execute_result"
    }
   ],
   "source": [
    "number"
   ]
  },
  {
   "cell_type": "code",
   "execution_count": 33,
   "metadata": {
    "slideshow": {
     "slide_type": "slide"
    }
   },
   "outputs": [
    {
     "name": "stdout",
     "output_type": "stream",
     "text": [
      "hello world\n",
      "The log of 3 is 1.0986122886681098.\n"
     ]
    }
   ],
   "source": [
    "log_function(3)"
   ]
  },
  {
   "cell_type": "markdown",
   "metadata": {
    "slideshow": {
     "slide_type": "fragment"
    }
   },
   "source": [
    "What is the error here?\n",
    "\n",
    "> Try saving log_function(5) and store it in a variable named `log_five`. "
   ]
  },
  {
   "cell_type": "code",
   "execution_count": 34,
   "metadata": {
    "slideshow": {
     "slide_type": "slide"
    }
   },
   "outputs": [
    {
     "name": "stdout",
     "output_type": "stream",
     "text": [
      "hello world\n",
      "The log of 5 is 1.6094379124341003.\n"
     ]
    }
   ],
   "source": [
    "log_five = log_function(5)"
   ]
  },
  {
   "cell_type": "code",
   "execution_count": 35,
   "metadata": {
    "slideshow": {
     "slide_type": "fragment"
    }
   },
   "outputs": [],
   "source": [
    "log_five\n"
   ]
  },
  {
   "cell_type": "markdown",
   "metadata": {
    "slideshow": {
     "slide_type": "slide"
    }
   },
   "source": [
    "Here is when we realize we need our `return` statement. This is the only thing that will allow us to \"save\" the output that we want.\n",
    "\n",
    "**NOTE** - **Do not** `return` a `print` statement as it will return a null object."
   ]
  },
  {
   "cell_type": "code",
   "execution_count": 36,
   "metadata": {
    "slideshow": {
     "slide_type": "fragment"
    }
   },
   "outputs": [],
   "source": [
    "def log_function(happy_number):\n",
    "    \n",
    "    return np.log(happy_number)\n",
    "\n",
    "log_five = log_function(5)"
   ]
  },
  {
   "cell_type": "code",
   "execution_count": 37,
   "metadata": {
    "slideshow": {
     "slide_type": "fragment"
    }
   },
   "outputs": [
    {
     "data": {
      "text/plain": [
       "1.6094379124341003"
      ]
     },
     "execution_count": 37,
     "metadata": {},
     "output_type": "execute_result"
    }
   ],
   "source": [
    "log_five"
   ]
  },
  {
   "cell_type": "markdown",
   "metadata": {
    "slideshow": {
     "slide_type": "slide"
    }
   },
   "source": [
    "A return statement in a Python function serves two purposes:  \n",
    "* It immediately terminates the function and passes execution control back to the caller.  \n",
    "* It provides a mechanism by which the function can pass data back to the caller.  "
   ]
  },
  {
   "cell_type": "markdown",
   "metadata": {
    "slideshow": {
     "slide_type": "slide"
    }
   },
   "source": [
    "In general:\n",
    "* $f$ is a function that operates on inputs.\n",
    "* Functions map the inputs to outputs.\n",
    "* Programming functions are more generalized and versatile than mathematical functions.\n"
   ]
  },
  {
   "cell_type": "markdown",
   "metadata": {
    "slideshow": {
     "slide_type": "slide"
    }
   },
   "source": [
    "When coding, a function is a self-contained block of code that encapsulates a specific task or group of tasks.\n",
    "\n",
    "**Example:**"
   ]
  },
  {
   "cell_type": "code",
   "execution_count": 38,
   "metadata": {
    "slideshow": {
     "slide_type": "fragment"
    }
   },
   "outputs": [
    {
     "data": {
      "text/plain": [
       "['foo', 'bar', 'baz', 'qux']"
      ]
     },
     "execution_count": 38,
     "metadata": {},
     "output_type": "execute_result"
    }
   ],
   "source": [
    "a = ['foo', 'bar', 'baz', 'qux']\n",
    "a"
   ]
  },
  {
   "cell_type": "code",
   "execution_count": 39,
   "metadata": {
    "slideshow": {
     "slide_type": "fragment"
    }
   },
   "outputs": [
    {
     "data": {
      "text/plain": [
       "4"
      ]
     },
     "execution_count": 39,
     "metadata": {},
     "output_type": "execute_result"
    }
   ],
   "source": [
    "len(a)"
   ]
  },
  {
   "cell_type": "markdown",
   "metadata": {
    "slideshow": {
     "slide_type": "slide"
    }
   },
   "source": [
    "A built-in functions performs a specific task!\n",
    "\n",
    "The code that accomplishes this task is defined **somewhere** - but you don’t need to know where. You don't even need to know how the code works.\n",
    "\n",
    "You need to understand the function’s interface: \n",
    "> * What arguments (if any) it takes \n",
    "> * What values (if any) it returns\n",
    "\n",
    "Then you call the function and pass the appropriate arguments."
   ]
  },
  {
   "cell_type": "markdown",
   "metadata": {
    "slideshow": {
     "slide_type": "slide"
    }
   },
   "source": [
    "For DS, you will not just use built-in functions - You will write our own functions!!\n",
    "\n",
    "When you define your own Python function, it works just the same. From somewhere in your code, you’ll call your Python function and program execution will transfer to the body of code that makes up the function. \n",
    "\n",
    "BUT this time, since you wrote the code, and you know where it lives, you can see it!\n",
    "Why bother defining functions? There are several very good reasons. Let’s go over a few now:"
   ]
  },
  {
   "cell_type": "markdown",
   "metadata": {
    "slideshow": {
     "slide_type": "slide"
    }
   },
   "source": [
    "### Abstraction and Reusability\n",
    "Suppose you write some code that does something useful task. And it is a task that you do several times.\n",
    "You could \"Copy-paste\" but…\n",
    "Later on, you’ll probably modify the code, or maybe you find a bug or you need to update it…\n",
    "If you copied-pasted, you’ll need to make the necessary changes in every location.\n",
    "\n",
    "\n",
    "Instead, use a function!! The abstraction of functionality into a function definition is an example of the **DRY** Principle of software development. This is arguably the strongest motivation for using functions."
   ]
  },
  {
   "cell_type": "markdown",
   "metadata": {
    "slideshow": {
     "slide_type": "slide"
    }
   },
   "source": [
    "### Modularity\n",
    "Functions allow complex processes to be broken up into smaller steps.\n",
    "Imagine, for example, that you have a program that reads in a file, processes the file contents, and then writes an output file. Your code could look like this:"
   ]
  },
  {
   "cell_type": "markdown",
   "metadata": {
    "slideshow": {
     "slide_type": "fragment"
    }
   },
   "source": [
    "```\n",
    "# Main program\n",
    "# Code to read file in\n",
    "<statement>\n",
    "<statement>\n",
    "<statement>\n",
    "<statement>\n",
    "# Code to process file\n",
    "<statement>\n",
    "<statement>\n",
    "<statement>\n",
    "<statement>\n",
    "# Code to write file out\n",
    "<statement>\n",
    "<statement>\n",
    "<statement>\n",
    "<statement>\n",
    "```"
   ]
  },
  {
   "cell_type": "markdown",
   "metadata": {
    "slideshow": {
     "slide_type": "slide"
    }
   },
   "source": [
    "Alternatively, you could structure the code more like the following:\n",
    "\n",
    "```\n",
    "# Main program\n",
    "read_file()\n",
    "process_file()\n",
    "write_file()\n",
    "```"
   ]
  },
  {
   "cell_type": "markdown",
   "metadata": {
    "slideshow": {
     "slide_type": "fragment"
    }
   },
   "source": [
    "PS. Here, you do have three scripts where you have defined the functions.  For example:\n",
    "```\n",
    "def read_file():\n",
    "# Code to read file in\n",
    "<statement>\n",
    "<statement>\n",
    "<statement>\n",
    "<statement>\n",
    "```"
   ]
  },
  {
   "cell_type": "markdown",
   "metadata": {
    "slideshow": {
     "slide_type": "slide"
    }
   },
   "source": [
    "### Function Calls and Definition \n",
    "\n",
    "A programming function is written as:\n",
    "\n",
    "```\n",
    "def <function_name>([<parameters>]):\n",
    "    '''\n",
    "    Docstrings\n",
    "    '''\n",
    "    <statement(s)>\n",
    "    <return>\n",
    "```"
   ]
  },
  {
   "cell_type": "markdown",
   "metadata": {
    "slideshow": {
     "slide_type": "slide"
    }
   },
   "source": [
    "| Component | Meaning|\n",
    "|----| ----|\n",
    "|def | Keyword that informs Python a function is being defined|\n",
    "|<function_name> | A valid Python identifier that names the function |\n",
    "|<parameter(s)> | An optional, comma-separated list of arguments that can be passed to the function |\n",
    "|:| Punctuation that denotes the end of the function header |\n",
    "|'''Docstrings'''| Documentation regarding the function |\n",
    "| <statement(s)> | A block of valid Python statements |\n",
    "| return | What the output is expected to be |"
   ]
  },
  {
   "cell_type": "markdown",
   "metadata": {},
   "source": [
    "## 'for' loops in `groupby` objects"
   ]
  },
  {
   "cell_type": "code",
   "execution_count": 40,
   "metadata": {
    "jupyter": {
     "source_hidden": true
    },
    "tags": []
   },
   "outputs": [],
   "source": [
    "import pandas as pd\n",
    "\n",
    "raw = {'employee_id': [1873, 4913, 4801, 4540, 3581,\n",
    "                   4534, 1934, 4944, 1983, 1266], \n",
    "           'name': ['Josh', 'Laura', 'Hayley', \n",
    "                    'Mike', 'Tiffany', 'Anurag',\n",
    "                    'Rocio', 'Eric', 'Monique',\n",
    "                    'Emma'], \n",
    "            'neighbourhood': ['Sunset','West end','Kitsilano', 'Sunset', \n",
    "                              'Arbutus-ridge','Arbutus-ridge', 'Kitsilano', \n",
    "                              'West end','Kitsilano', 'Arbutus-ridge'],\n",
    "            'type': ['full-time', 'part-time', 'part-time', 'full-time', 'part-time',\n",
    "                     'full-time', 'full-time', 'part-time', 'part-time', 'full-time'],\n",
    "            'hourly_rate': [25.0, 27.0, 30.0, 25.5, 32.0,\n",
    "                         26.5, 27.0, 28.0, 25.5, 23.0]}\n",
    "\n",
    "data = pd.DataFrame.from_dict(raw)"
   ]
  },
  {
   "cell_type": "code",
   "execution_count": 41,
   "metadata": {},
   "outputs": [
    {
     "data": {
      "text/html": [
       "<div>\n",
       "<style scoped>\n",
       "    .dataframe tbody tr th:only-of-type {\n",
       "        vertical-align: middle;\n",
       "    }\n",
       "\n",
       "    .dataframe tbody tr th {\n",
       "        vertical-align: top;\n",
       "    }\n",
       "\n",
       "    .dataframe thead th {\n",
       "        text-align: right;\n",
       "    }\n",
       "</style>\n",
       "<table border=\"1\" class=\"dataframe\">\n",
       "  <thead>\n",
       "    <tr style=\"text-align: right;\">\n",
       "      <th></th>\n",
       "      <th>employee_id</th>\n",
       "      <th>name</th>\n",
       "      <th>neighbourhood</th>\n",
       "      <th>type</th>\n",
       "      <th>hourly_rate</th>\n",
       "    </tr>\n",
       "  </thead>\n",
       "  <tbody>\n",
       "    <tr>\n",
       "      <th>0</th>\n",
       "      <td>1873</td>\n",
       "      <td>Josh</td>\n",
       "      <td>Sunset</td>\n",
       "      <td>full-time</td>\n",
       "      <td>25.0</td>\n",
       "    </tr>\n",
       "    <tr>\n",
       "      <th>1</th>\n",
       "      <td>4913</td>\n",
       "      <td>Laura</td>\n",
       "      <td>West end</td>\n",
       "      <td>part-time</td>\n",
       "      <td>27.0</td>\n",
       "    </tr>\n",
       "    <tr>\n",
       "      <th>2</th>\n",
       "      <td>4801</td>\n",
       "      <td>Hayley</td>\n",
       "      <td>Kitsilano</td>\n",
       "      <td>part-time</td>\n",
       "      <td>30.0</td>\n",
       "    </tr>\n",
       "    <tr>\n",
       "      <th>3</th>\n",
       "      <td>4540</td>\n",
       "      <td>Mike</td>\n",
       "      <td>Sunset</td>\n",
       "      <td>full-time</td>\n",
       "      <td>25.5</td>\n",
       "    </tr>\n",
       "    <tr>\n",
       "      <th>4</th>\n",
       "      <td>3581</td>\n",
       "      <td>Tiffany</td>\n",
       "      <td>Arbutus-ridge</td>\n",
       "      <td>part-time</td>\n",
       "      <td>32.0</td>\n",
       "    </tr>\n",
       "    <tr>\n",
       "      <th>5</th>\n",
       "      <td>4534</td>\n",
       "      <td>Anurag</td>\n",
       "      <td>Arbutus-ridge</td>\n",
       "      <td>full-time</td>\n",
       "      <td>26.5</td>\n",
       "    </tr>\n",
       "    <tr>\n",
       "      <th>6</th>\n",
       "      <td>1934</td>\n",
       "      <td>Rocio</td>\n",
       "      <td>Kitsilano</td>\n",
       "      <td>full-time</td>\n",
       "      <td>27.0</td>\n",
       "    </tr>\n",
       "    <tr>\n",
       "      <th>7</th>\n",
       "      <td>4944</td>\n",
       "      <td>Eric</td>\n",
       "      <td>West end</td>\n",
       "      <td>part-time</td>\n",
       "      <td>28.0</td>\n",
       "    </tr>\n",
       "    <tr>\n",
       "      <th>8</th>\n",
       "      <td>1983</td>\n",
       "      <td>Monique</td>\n",
       "      <td>Kitsilano</td>\n",
       "      <td>part-time</td>\n",
       "      <td>25.5</td>\n",
       "    </tr>\n",
       "    <tr>\n",
       "      <th>9</th>\n",
       "      <td>1266</td>\n",
       "      <td>Emma</td>\n",
       "      <td>Arbutus-ridge</td>\n",
       "      <td>full-time</td>\n",
       "      <td>23.0</td>\n",
       "    </tr>\n",
       "  </tbody>\n",
       "</table>\n",
       "</div>"
      ],
      "text/plain": [
       "   employee_id     name  neighbourhood       type  hourly_rate\n",
       "0         1873     Josh         Sunset  full-time         25.0\n",
       "1         4913    Laura       West end  part-time         27.0\n",
       "2         4801   Hayley      Kitsilano  part-time         30.0\n",
       "3         4540     Mike         Sunset  full-time         25.5\n",
       "4         3581  Tiffany  Arbutus-ridge  part-time         32.0\n",
       "5         4534   Anurag  Arbutus-ridge  full-time         26.5\n",
       "6         1934    Rocio      Kitsilano  full-time         27.0\n",
       "7         4944     Eric       West end  part-time         28.0\n",
       "8         1983  Monique      Kitsilano  part-time         25.5\n",
       "9         1266     Emma  Arbutus-ridge  full-time         23.0"
      ]
     },
     "execution_count": 41,
     "metadata": {},
     "output_type": "execute_result"
    }
   ],
   "source": [
    "data"
   ]
  },
  {
   "cell_type": "code",
   "execution_count": 42,
   "metadata": {},
   "outputs": [
    {
     "data": {
      "text/plain": [
       "<pandas.core.groupby.generic.DataFrameGroupBy object at 0x10d1f23a0>"
      ]
     },
     "execution_count": 42,
     "metadata": {},
     "output_type": "execute_result"
    }
   ],
   "source": [
    "grouped_data = data.groupby('type')\n",
    "grouped_data"
   ]
  },
  {
   "cell_type": "code",
   "execution_count": 43,
   "metadata": {
    "tags": []
   },
   "outputs": [
    {
     "name": "stdout",
     "output_type": "stream",
     "text": [
      "full-time    employee_id    name  neighbourhood       type  hourly_rate\n",
      "0         1873    Josh         Sunset  full-time         25.0\n",
      "3         4540    Mike         Sunset  full-time         25.5\n",
      "5         4534  Anurag  Arbutus-ridge  full-time         26.5\n",
      "6         1934   Rocio      Kitsilano  full-time         27.0\n",
      "9         1266    Emma  Arbutus-ridge  full-time         23.0\n",
      "part-time    employee_id     name  neighbourhood       type  hourly_rate\n",
      "1         4913    Laura       West end  part-time         27.0\n",
      "2         4801   Hayley      Kitsilano  part-time         30.0\n",
      "4         3581  Tiffany  Arbutus-ridge  part-time         32.0\n",
      "7         4944     Eric       West end  part-time         28.0\n",
      "8         1983  Monique      Kitsilano  part-time         25.5\n"
     ]
    }
   ],
   "source": [
    "for group, rows in grouped_data:\n",
    "    print(group, rows)"
   ]
  },
  {
   "cell_type": "code",
   "execution_count": 44,
   "metadata": {},
   "outputs": [
    {
     "data": {
      "text/html": [
       "<div>\n",
       "<style scoped>\n",
       "    .dataframe tbody tr th:only-of-type {\n",
       "        vertical-align: middle;\n",
       "    }\n",
       "\n",
       "    .dataframe tbody tr th {\n",
       "        vertical-align: top;\n",
       "    }\n",
       "\n",
       "    .dataframe thead th {\n",
       "        text-align: right;\n",
       "    }\n",
       "</style>\n",
       "<table border=\"1\" class=\"dataframe\">\n",
       "  <thead>\n",
       "    <tr style=\"text-align: right;\">\n",
       "      <th></th>\n",
       "      <th>employee_id</th>\n",
       "      <th>name</th>\n",
       "      <th>neighbourhood</th>\n",
       "      <th>type</th>\n",
       "      <th>hourly_rate</th>\n",
       "    </tr>\n",
       "  </thead>\n",
       "  <tbody>\n",
       "    <tr>\n",
       "      <th>0</th>\n",
       "      <td>1873</td>\n",
       "      <td>Josh</td>\n",
       "      <td>Sunset</td>\n",
       "      <td>full-time</td>\n",
       "      <td>25.0</td>\n",
       "    </tr>\n",
       "    <tr>\n",
       "      <th>3</th>\n",
       "      <td>4540</td>\n",
       "      <td>Mike</td>\n",
       "      <td>Sunset</td>\n",
       "      <td>full-time</td>\n",
       "      <td>25.5</td>\n",
       "    </tr>\n",
       "    <tr>\n",
       "      <th>5</th>\n",
       "      <td>4534</td>\n",
       "      <td>Anurag</td>\n",
       "      <td>Arbutus-ridge</td>\n",
       "      <td>full-time</td>\n",
       "      <td>26.5</td>\n",
       "    </tr>\n",
       "    <tr>\n",
       "      <th>6</th>\n",
       "      <td>1934</td>\n",
       "      <td>Rocio</td>\n",
       "      <td>Kitsilano</td>\n",
       "      <td>full-time</td>\n",
       "      <td>27.0</td>\n",
       "    </tr>\n",
       "    <tr>\n",
       "      <th>9</th>\n",
       "      <td>1266</td>\n",
       "      <td>Emma</td>\n",
       "      <td>Arbutus-ridge</td>\n",
       "      <td>full-time</td>\n",
       "      <td>23.0</td>\n",
       "    </tr>\n",
       "  </tbody>\n",
       "</table>\n",
       "</div>"
      ],
      "text/plain": [
       "   employee_id    name  neighbourhood       type  hourly_rate\n",
       "0         1873    Josh         Sunset  full-time         25.0\n",
       "3         4540    Mike         Sunset  full-time         25.5\n",
       "5         4534  Anurag  Arbutus-ridge  full-time         26.5\n",
       "6         1934   Rocio      Kitsilano  full-time         27.0\n",
       "9         1266    Emma  Arbutus-ridge  full-time         23.0"
      ]
     },
     "execution_count": 44,
     "metadata": {},
     "output_type": "execute_result"
    }
   ],
   "source": [
    "grouped_data.get_group('full-time')"
   ]
  },
  {
   "cell_type": "code",
   "execution_count": null,
   "metadata": {},
   "outputs": [],
   "source": []
  }
 ],
 "metadata": {
  "celltoolbar": "Slideshow",
  "interpreter": {
   "hash": "a75bd6151e265d44863ae447c53c96ded6c20b4779439cdccf9ca698d6566769"
  },
  "kernelspec": {
   "display_name": "Python 3 (ipykernel)",
   "language": "python",
   "name": "python3"
  },
  "language_info": {
   "codemirror_mode": {
    "name": "ipython",
    "version": 3
   },
   "file_extension": ".py",
   "mimetype": "text/x-python",
   "name": "python",
   "nbconvert_exporter": "python",
   "pygments_lexer": "ipython3",
   "version": "3.9.12"
  }
 },
 "nbformat": 4,
 "nbformat_minor": 4
}
