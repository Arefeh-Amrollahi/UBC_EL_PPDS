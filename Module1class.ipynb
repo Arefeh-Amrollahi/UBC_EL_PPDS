{
 "cells": [
  {
   "attachments": {},
   "cell_type": "markdown",
   "metadata": {},
   "source": [
    "# UBC\n",
    "## Programming in Python for DS\n",
    "\n",
    "June 07, 2023  \n",
    "\n",
    "Instructor: Socorro Dominguez Vidana"
   ]
  },
  {
   "cell_type": "markdown",
   "metadata": {},
   "source": [
    "## How does this Course Work?\n",
    "\n",
    "4 Main Components:\n",
    "- [Course Material](https://prog-learn.mds.ubc.ca/en/)\n",
    "- Jupypter Hub for assignments\n",
    "- Piazza for Questions\n",
    "- Office Hours: 2 hours a week and will be recorded. (Optional Attendance) "
   ]
  },
  {
   "attachments": {},
   "cell_type": "markdown",
   "metadata": {},
   "source": [
    "### Office Hours Expectations\n",
    "\n",
    "- Students **must** bring in questions:\n",
    "    - On Mondays we will do a Module preview.\n",
    "    - Wednesdays, Office Hours rely entirely, on the questions brought by you. \n",
    "<br> \n",
    "\n",
    "- Try to keep your mic muted but your camera on (at least when you are speaking). Stay engaged.\n",
    "\n",
    "- Although attendance is optional, it is highly encouraged that you do at least watch the recordings, there might be announcements made during Office Hours.\n",
    "\n",
    "- To ask a question in Office Hours, be ready to share your screen and walk us through where you are stalled. If you have worked through the solution partially, also give us a tour :) "
   ]
  },
  {
   "attachments": {},
   "cell_type": "markdown",
   "metadata": {},
   "source": [
    "### Piazza Expectations\n",
    "\n",
    "- Piazza is similar to a website called StackOverflow.\n",
    "\n",
    "- Its main purpose is to communicate questions among stuents and instructors.\n",
    "    - Collaboration among all is extremely important.\n",
    "\n",
    "- Try working alone first on a problem. If you have worked for 15-30 minutes and you cannot figure it out, **ASK** on Piazza. If you have that question, it is very likely other students are facing the same problem. And if someone finds the answer first, they can share it with you.\n",
    "\n",
    "- Are you shy? Don't worry, you can post annonymously.\n",
    "\n",
    "- Questions related to course content, post them on Piazza. If you email the instructors, you might wait too long for an answer. And the knowledge/discussion is then only delivered to you.\n",
    "\n",
    "- A good question involves:\n",
    "    - The Question that you are trying to sovle.\n",
    "    - What you have tried doing (It is totally OK to post code)\n",
    "        - For posting code, use three backticks ``` before the code and three backticks after the code. Copy and paste your code (rather than screenshots), that way, others can try to run it too.\n",
    "            ```python\n",
    "            print(hello)\n",
    "            ``` \n",
    "    - The error message that you got."
   ]
  },
  {
   "attachments": {},
   "cell_type": "markdown",
   "metadata": {},
   "source": [
    "### Assignment Expectations\n",
    "- You will have one assignment per week. \n",
    "    - The first submission is on Sunday (the first assignment is more of a walkthrough).  \n",
    "    <br> \n",
    "\n",
    "- **Do not** change the names of the files. It might be tempting to add your name. Please do not as this may cause problems when grading you.\n",
    "\n",
    "- Avoid uploading data or unrelated course material into the server. This might also cause crashes with the server.\n",
    "\n",
    "- Try to submit on time. We will talk more about late submissions next week. But try to stay on track as much as possible.\n",
    "\n",
    "- To submit, all assignments (except for the Final Project) need to be submitted on the server only. To achieve this, simply save your file changes - as simple as that."
   ]
  },
  {
   "attachments": {},
   "cell_type": "markdown",
   "metadata": {},
   "source": [
    "### Hints on how to Navigate the Course?\n",
    "\n",
    "- Read the Goals of the Module.\n",
    "\n",
    "- Read the Assignment (so that you have an idea of what you are expected to do)\n",
    "\n",
    "- Watch the videos and solve the exercices.\n",
    "\n",
    "- Instead of waiting to solve the whole assignment on the weekend, code along and try solving a bit every day.\n",
    "\n",
    "- Try working on a problem for 15-30 minutes before asking on Piazza.\n",
    "\n",
    "- If Piazza is not enough, bring your question to Office Hours.\n",
    "    - Maybe you got the right answer but don't understand how/why it works. Bring the problem and we will discuss it."
   ]
  },
  {
   "cell_type": "markdown",
   "metadata": {},
   "source": [
    "### What is Python?"
   ]
  },
  {
   "cell_type": "markdown",
   "metadata": {},
   "source": [
    "- Python is a widely used general-purpose, high-level programming language.\n",
    "\n",
    "- Designed by Guido van Rossum in 1991 who developed by Python Software Foundation.\n",
    "\n",
    "- Developed to allow programmers express concepts in fewer lines of code.\n",
    "\n",
    "- Object-oriented programming language (can model real-world entities). \n",
    "\n",
    "- Dynamically-typed and already interpreted - we don't need to compile it.\n",
    "\n",
    "- Python 3 was released in December 2008."
   ]
  },
  {
   "attachments": {},
   "cell_type": "markdown",
   "metadata": {},
   "source": [
    "#### Python's Fun Facts\n",
    "\n",
    "- Firstly introduced at the National Research Institute for Mathematics and Computer Science, Netherlands, 1991. [source](https://www.journaldev.com/34415/history-of-python-programming-language)\n",
    "\n",
    "- Named after the comedy show Monty Python's Flying Circus (it's in Netflix)\n",
    "\n",
    "- Python has become the most popular coding language in the world. \n",
    "    - This makes a career in Python a great choice. Not just for Data Science/Analytics.\n",
    "\n",
    "- Python has just turned 30+, but:\n",
    "    - Google users have searched \"Python\" much more than they have searched for Kim Kardashian, Donald Trump, or Tom Cruise etc.\n",
    "    [source](https://trends.google.com/trends/?geo=CA)"
   ]
  },
  {
   "attachments": {},
   "cell_type": "markdown",
   "metadata": {},
   "source": [
    "### Why Python for Data Science ?\n",
    "\n",
    "- Fast programming language to pick up - from a syntax point of view.\n",
    "    - We will use python as a functional language rather than an OOP language.\n",
    "\n",
    "- Active community with a vast selection of libraries (such as pandas and Altair)  and resources.\n",
    "\n",
    "- Professionals working with Data Science applications want to focus on insights rather than on complications of language."
   ]
  },
  {
   "attachments": {},
   "cell_type": "markdown",
   "metadata": {},
   "source": [
    "### What is Jupyter?\n",
    "\n",
    "- It is an IDE (integrated development environment)\n",
    "\n",
    "- We can use Python via Jupyter.\n",
    "\n",
    "- You can think of Python like a car's engine, while Jupyter is like a car's dashboard.\n",
    "    - Python is the programming language that runs computations\n",
    "    - Jupyter is the IDE that provides an interface by adding convenient features and tools.\n",
    "    \n",
    "- We can use other programs with Jupyter (R, Julia, Matlab,...)"
   ]
  },
  {
   "attachments": {},
   "cell_type": "markdown",
   "metadata": {},
   "source": [
    "### Why Jupyter Lab?\n",
    "\n",
    "- In Jupyter we can code, do plots, format text, equations, etc. in a single document.\n",
    "\n",
    "- Allows us to run Python code interactively.\n",
    "\n",
    "- Notebooks are great for exploration and for documenting a complete workflow.\n",
    "\n",
    "- Notebooks can be shared in a human readable format:\n",
    "    - Share online with nbviewer.jupyter.org\n",
    "    - Github, any notebooks you upload are automatically rendered on the site.\n",
    "    - Convert to HTML, PDF, etc."
   ]
  },
  {
   "attachments": {},
   "cell_type": "markdown",
   "metadata": {},
   "source": [
    "### *Course Requirements?*\n",
    "\n",
    "For this course, you do not need to install anything.  \n",
    "\n",
    "The Jupyter server that loads when you start an assignment suffices for this course.\n",
    "\n",
    "If you want to install it in your computer, follow these instructions:\n",
    "[MDS Installation Guide](https://ubc-mds.github.io/resources_pages/installation_instructions/)"
   ]
  },
  {
   "cell_type": "markdown",
   "metadata": {},
   "source": [
    "### Characteristics of Notebooks\n",
    "\n",
    "- A notebook consists of a series of \"cells\":\n",
    "    - Code cells: execute snippets of code and display the output\n",
    "    - Markdown cells: formatted text, equations, images, and more"
   ]
  },
  {
   "cell_type": "code",
   "execution_count": 1,
   "metadata": {},
   "outputs": [
    {
     "data": {
      "text/plain": [
       "9"
      ]
     },
     "execution_count": 1,
     "metadata": {},
     "output_type": "execute_result"
    }
   ],
   "source": [
    "# Code Cell\n",
    "\n",
    "x = 3\n",
    "x + 6"
   ]
  },
  {
   "attachments": {},
   "cell_type": "markdown",
   "metadata": {},
   "source": [
    "```python\n",
    "# Markdown Cell\n",
    "```\n",
    "\n",
    "$x + y = 10$"
   ]
  },
  {
   "cell_type": "markdown",
   "metadata": {},
   "source": [
    "Note: By default, a new cell is always a code cell."
   ]
  },
  {
   "cell_type": "markdown",
   "metadata": {},
   "source": [
    "### Python Data Science Ecosystem\n",
    "\n",
    "- Python has many uses: \n",
    "    - Web development\n",
    "    - Automation or scripting\n",
    "    - Software testing and prototyping\n",
    "    - Everyday tasks\n",
    "    - Data Analysis & Data Science\n",
    "    \n",
    "- Python has built-in functions. But that is not enough for us (we don't want to reinvent all functions).\n",
    "\n",
    "- The Python libraries for data science are developed and maintained by external \"3rd party\" development teams\n",
    "\n",
    "- Python core + 3rd party libraries = **ecosystem**\n",
    "    - To install and manage 3rd party libraries, you need to use a package manager such as conda (which comes with Anaconda/Miniconda) - More on this in the DS Toolbox\n",
    "    "
   ]
  },
  {
   "cell_type": "markdown",
   "metadata": {},
   "source": [
    "Some of the libraries in the Python data science ecosystem:\n",
    "\n",
    "![](ecosystem_big.png)\n",
    "\n",
    "During the program, we will be working with Pandas, numPy, and Altair"
   ]
  },
  {
   "cell_type": "markdown",
   "metadata": {},
   "source": [
    "## Tricks with Notebooks"
   ]
  },
  {
   "cell_type": "code",
   "execution_count": 2,
   "metadata": {},
   "outputs": [
    {
     "data": {
      "text/plain": [
       "8"
      ]
     },
     "execution_count": 2,
     "metadata": {},
     "output_type": "execute_result"
    }
   ],
   "source": [
    "# This is a code cell\n",
    "\n",
    "x = 5\n",
    "3+x # Shows output"
   ]
  },
  {
   "cell_type": "code",
   "execution_count": 3,
   "metadata": {},
   "outputs": [],
   "source": [
    "y = 3"
   ]
  },
  {
   "cell_type": "markdown",
   "metadata": {},
   "source": [
    "### Writing a formula \n",
    "- Render with latex using `$`\n",
    "\n",
    "Write \n",
    ">\n",
    ">```markdown\n",
    "$x + y = 8$\n",
    ">```\n",
    "\n",
    "The output is: \n",
    "\n",
    ">$x + y = 8$"
   ]
  },
  {
   "cell_type": "markdown",
   "metadata": {},
   "source": [
    "- Loading an image:\n",
    "\n",
    "```markdown\n",
    "![](image_path)\n",
    "```"
   ]
  },
  {
   "cell_type": "markdown",
   "metadata": {},
   "source": [
    "Writing chunks of code as markdown (that doesn't execute) - type:\n",
    "```markdown\n",
    "    ```python\n",
    "        print(\"hello world!\")\n",
    "    ```\n",
    "```\n"
   ]
  },
  {
   "cell_type": "markdown",
   "metadata": {},
   "source": [
    "Renders\n",
    "\n",
    "```python\n",
    "print(\"hello world!\")\n",
    "```"
   ]
  },
  {
   "cell_type": "markdown",
   "metadata": {},
   "source": [
    "Write variables from the document between `\n",
    "\n",
    "`x`"
   ]
  },
  {
   "cell_type": "code",
   "execution_count": 5,
   "metadata": {},
   "outputs": [
    {
     "data": {
      "text/plain": [
       "8"
      ]
     },
     "execution_count": 5,
     "metadata": {},
     "output_type": "execute_result"
    }
   ],
   "source": [
    "z + y"
   ]
  },
  {
   "cell_type": "code",
   "execution_count": 4,
   "metadata": {},
   "outputs": [],
   "source": [
    "z = 5"
   ]
  }
 ],
 "metadata": {
  "kernelspec": {
   "display_name": "Python 3 (ipykernel)",
   "language": "python",
   "name": "python3"
  },
  "language_info": {
   "codemirror_mode": {
    "name": "ipython",
    "version": 3
   },
   "file_extension": ".py",
   "mimetype": "text/x-python",
   "name": "python",
   "nbconvert_exporter": "python",
   "pygments_lexer": "ipython3",
   "version": "3.9.13"
  },
  "vscode": {
   "interpreter": {
    "hash": "aee8b7b246df8f9039afb4144a1f6fd8d2ca17a180786b69acc140d282b71a49"
   }
  }
 },
 "nbformat": 4,
 "nbformat_minor": 4
}
